{
  "nbformat": 4,
  "nbformat_minor": 0,
  "metadata": {
    "colab": {
      "provenance": [],
      "authorship_tag": "ABX9TyP/r1ZxuUsE30JRJY96VBIs",
      "include_colab_link": true
    },
    "kernelspec": {
      "name": "python3",
      "display_name": "Python 3"
    },
    "language_info": {
      "name": "python"
    }
  },
  "cells": [
    {
      "cell_type": "markdown",
      "metadata": {
        "id": "view-in-github",
        "colab_type": "text"
      },
      "source": [
        "<a href=\"https://colab.research.google.com/github/sp2005-im/Machine-Learning-Basics-Regression-And-Classification/blob/main/Navier_Stokes.ipynb\" target=\"_parent\"><img src=\"https://colab.research.google.com/assets/colab-badge.svg\" alt=\"Open In Colab\"/></a>"
      ]
    },
    {
      "cell_type": "code",
      "source": [
        "file = open(\"press.txt\",\"w\")\n",
        "file.write(\"2*z\")\n",
        "file.close()"
      ],
      "metadata": {
        "id": "6gM9x1i50kd9"
      },
      "execution_count": 1,
      "outputs": []
    },
    {
      "cell_type": "code",
      "source": [
        "#Sri Rama Jayam\n",
        "import sympy as sp\n",
        "from sympy import symbols, diff,Derivative,ccode\n",
        "with open (\"press.txt\",\"r\") as f:\n",
        "  e = f.read()\n",
        "r, theta, z, t, mu, P = sp.var('r theta z t mu P')\n",
        "rho, u, R = symbols('rho u R', constant=True)\n",
        "P = sp.sympify(e)\n",
        "k = diff(P,z)\n",
        "#print(k)\n",
        "u_r = sp.Function('u_r')\n",
        "u_theta = 0\n",
        "u_z = sp.Function('u_z')\n",
        "c_eq = sp.Eq(sp.diff(u_r(r)*r, r) , 0)\n",
        "soln1 = sp.dsolve(c_eq, u_r(r), ics = {u_r(r).subs(r,0):1})\n",
        "u_r = soln1.rhs\n",
        "#print(sp.latex(soln1)) # To obtain the results of the continuity equation\n",
        "m_eq = sp.Eq(u * sp.diff(r * sp.diff(u_z(r), r), r) / r - k, 0)\n",
        "# Specify boundary conditions\n",
        "boundary_conditions = {\n",
        "    u_z(r).subs(r, R): 0,  # u_z(r=1) = 0\n",
        "    u_z(r).diff(r).subs(r, 0): 0  # diff(u_z(r=0)) = 0\n",
        "}\n",
        "\n",
        "# Solve the differential equation with boundary conditions\n",
        "solution = sp.dsolve(m_eq, ics=boundary_conditions)\n",
        "axial_velocity = solution.rhs\n",
        "axial_velocity"
      ],
      "metadata": {
        "colab": {
          "base_uri": "https://localhost:8080/",
          "height": 54
        },
        "id": "ZR14VXTc08YI",
        "outputId": "7a168256-83de-4d09-c083-1777645dbd97"
      },
      "execution_count": 3,
      "outputs": [
        {
          "output_type": "execute_result",
          "data": {
            "text/plain": [
              "-R**2/(2*u) + r**2/(2*u)"
            ],
            "text/latex": "$\\displaystyle - \\frac{R^{2}}{2 u} + \\frac{r^{2}}{2 u}$"
          },
          "metadata": {},
          "execution_count": 3
        }
      ]
    },
    {
      "cell_type": "code",
      "source": [
        "axial_velocity_subs = axial_velocity.subs({R:1,u:1})"
      ],
      "metadata": {
        "id": "SKfVThmQ1aj5"
      },
      "execution_count": 11,
      "outputs": []
    },
    {
      "cell_type": "code",
      "source": [
        "r_val = float(input(\"Enter the axial distance at which the velocity is to be found out: \"))\n",
        "axial_velocity_res = axial_velocity_subs.subs(r,r_val)\n",
        "print(f\"The axial velocity at the entered distance {r_val} is: \",axial_velocity_res)"
      ],
      "metadata": {
        "colab": {
          "base_uri": "https://localhost:8080/"
        },
        "id": "4OtF2n6F2chQ",
        "outputId": "4e4ecc76-119c-45b5-83fb-dca620f180e0"
      },
      "execution_count": 18,
      "outputs": [
        {
          "output_type": "stream",
          "name": "stdout",
          "text": [
            "Enter the axial distance at which the velocity is to be found out: 0.5\n",
            "The axial velocity at the entered distance 0.5 is:  -0.375000000000000\n"
          ]
        }
      ]
    }
  ]
}