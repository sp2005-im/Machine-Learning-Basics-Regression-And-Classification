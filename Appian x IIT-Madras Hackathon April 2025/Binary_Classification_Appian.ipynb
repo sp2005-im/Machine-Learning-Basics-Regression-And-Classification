{
  "nbformat": 4,
  "nbformat_minor": 0,
  "metadata": {
    "colab": {
      "provenance": [],
      "authorship_tag": "ABX9TyNrmdvsmtHI8xxuxCWV0qsI",
      "include_colab_link": true
    },
    "kernelspec": {
      "name": "python3",
      "display_name": "Python 3"
    },
    "language_info": {
      "name": "python"
    }
  },
  "cells": [
    {
      "cell_type": "markdown",
      "metadata": {
        "id": "view-in-github",
        "colab_type": "text"
      },
      "source": [
        "<a href=\"https://colab.research.google.com/github/sp2005-im/Machine-Learning-Basics-Regression-And-Classification/blob/main/Appian%20x%20IIT-Madras%20Hackathon%20April%202025/Binary_Classification_Appian.ipynb\" target=\"_parent\"><img src=\"https://colab.research.google.com/assets/colab-badge.svg\" alt=\"Open In Colab\"/></a>"
      ]
    },
    {
      "cell_type": "code",
      "execution_count": 1,
      "metadata": {
        "colab": {
          "base_uri": "https://localhost:8080/"
        },
        "id": "SJZABjtUe1wl",
        "outputId": "5db67af4-5603-4b17-93ca-e34938540908"
      },
      "outputs": [
        {
          "output_type": "stream",
          "name": "stdout",
          "text": [
            "Archive:  appian-x-iit-madras-hackathon-april-2025.zip\n",
            "  inflating: sample_submission.csv   \n",
            "  inflating: test.csv                \n",
            "  inflating: train.csv               \n"
          ]
        }
      ],
      "source": [
        "# SriRamaJayam\n",
        "!unzip appian-x-iit-madras-hackathon-april-2025.zip"
      ]
    },
    {
      "cell_type": "code",
      "source": [
        "import numpy as np\n",
        "import pandas as pd\n",
        "\n",
        "df = pd.read_csv('/content/train.csv')"
      ],
      "metadata": {
        "id": "tJPFaXW4fPCO"
      },
      "execution_count": 2,
      "outputs": []
    },
    {
      "cell_type": "code",
      "source": [
        "df.head(5)"
      ],
      "metadata": {
        "colab": {
          "base_uri": "https://localhost:8080/",
          "height": 256
        },
        "id": "GXekxQe0fXOx",
        "outputId": "ad9698d0-ef72-4eb7-c11d-6f8772a24abc"
      },
      "execution_count": 3,
      "outputs": [
        {
          "output_type": "execute_result",
          "data": {
            "text/plain": [
              "     ID  Year_Birth   Education Marital_Status   Income  Kidhome  Teenhome  \\\n",
              "0  5524        1957  Graduation         Single  58138.0        0         0   \n",
              "1  2174        1954  Graduation         Single  46344.0        1         1   \n",
              "2  4141        1965  Graduation       Together  71613.0        0         0   \n",
              "3  6182        1984  Graduation       Together  26646.0        1         0   \n",
              "4  5324        1981         PhD        Married  58293.0        1         0   \n",
              "\n",
              "  Dt_Customer  Recency  MntWines  ...  NumWebVisitsMonth  AcceptedCmp3  \\\n",
              "0    4/9/2012       58     635.0  ...                  7             0   \n",
              "1    8/3/2014       38      11.0  ...                  5             0   \n",
              "2  21-08-2013       26     426.0  ...                  4             0   \n",
              "3   10/2/2014       26      11.0  ...                  6             0   \n",
              "4  19-01-2014       94     173.0  ...                  5             0   \n",
              "\n",
              "   AcceptedCmp4  AcceptedCmp5  AcceptedCmp1  AcceptedCmp2  Complain  \\\n",
              "0             0             0             0             0         0   \n",
              "1             0             0             0             0         0   \n",
              "2             0             0             0             0         0   \n",
              "3             0             0             0             0         0   \n",
              "4             0             0             0             0         0   \n",
              "\n",
              "   Z_CostContact  Z_Revenue  Target  \n",
              "0              3         11       1  \n",
              "1              3         11       0  \n",
              "2              3         11       1  \n",
              "3              3         11       0  \n",
              "4              3         11       0  \n",
              "\n",
              "[5 rows x 29 columns]"
            ],
            "text/html": [
              "\n",
              "  <div id=\"df-73f887fa-4714-4eb1-81aa-2dbec8afdd60\" class=\"colab-df-container\">\n",
              "    <div>\n",
              "<style scoped>\n",
              "    .dataframe tbody tr th:only-of-type {\n",
              "        vertical-align: middle;\n",
              "    }\n",
              "\n",
              "    .dataframe tbody tr th {\n",
              "        vertical-align: top;\n",
              "    }\n",
              "\n",
              "    .dataframe thead th {\n",
              "        text-align: right;\n",
              "    }\n",
              "</style>\n",
              "<table border=\"1\" class=\"dataframe\">\n",
              "  <thead>\n",
              "    <tr style=\"text-align: right;\">\n",
              "      <th></th>\n",
              "      <th>ID</th>\n",
              "      <th>Year_Birth</th>\n",
              "      <th>Education</th>\n",
              "      <th>Marital_Status</th>\n",
              "      <th>Income</th>\n",
              "      <th>Kidhome</th>\n",
              "      <th>Teenhome</th>\n",
              "      <th>Dt_Customer</th>\n",
              "      <th>Recency</th>\n",
              "      <th>MntWines</th>\n",
              "      <th>...</th>\n",
              "      <th>NumWebVisitsMonth</th>\n",
              "      <th>AcceptedCmp3</th>\n",
              "      <th>AcceptedCmp4</th>\n",
              "      <th>AcceptedCmp5</th>\n",
              "      <th>AcceptedCmp1</th>\n",
              "      <th>AcceptedCmp2</th>\n",
              "      <th>Complain</th>\n",
              "      <th>Z_CostContact</th>\n",
              "      <th>Z_Revenue</th>\n",
              "      <th>Target</th>\n",
              "    </tr>\n",
              "  </thead>\n",
              "  <tbody>\n",
              "    <tr>\n",
              "      <th>0</th>\n",
              "      <td>5524</td>\n",
              "      <td>1957</td>\n",
              "      <td>Graduation</td>\n",
              "      <td>Single</td>\n",
              "      <td>58138.0</td>\n",
              "      <td>0</td>\n",
              "      <td>0</td>\n",
              "      <td>4/9/2012</td>\n",
              "      <td>58</td>\n",
              "      <td>635.0</td>\n",
              "      <td>...</td>\n",
              "      <td>7</td>\n",
              "      <td>0</td>\n",
              "      <td>0</td>\n",
              "      <td>0</td>\n",
              "      <td>0</td>\n",
              "      <td>0</td>\n",
              "      <td>0</td>\n",
              "      <td>3</td>\n",
              "      <td>11</td>\n",
              "      <td>1</td>\n",
              "    </tr>\n",
              "    <tr>\n",
              "      <th>1</th>\n",
              "      <td>2174</td>\n",
              "      <td>1954</td>\n",
              "      <td>Graduation</td>\n",
              "      <td>Single</td>\n",
              "      <td>46344.0</td>\n",
              "      <td>1</td>\n",
              "      <td>1</td>\n",
              "      <td>8/3/2014</td>\n",
              "      <td>38</td>\n",
              "      <td>11.0</td>\n",
              "      <td>...</td>\n",
              "      <td>5</td>\n",
              "      <td>0</td>\n",
              "      <td>0</td>\n",
              "      <td>0</td>\n",
              "      <td>0</td>\n",
              "      <td>0</td>\n",
              "      <td>0</td>\n",
              "      <td>3</td>\n",
              "      <td>11</td>\n",
              "      <td>0</td>\n",
              "    </tr>\n",
              "    <tr>\n",
              "      <th>2</th>\n",
              "      <td>4141</td>\n",
              "      <td>1965</td>\n",
              "      <td>Graduation</td>\n",
              "      <td>Together</td>\n",
              "      <td>71613.0</td>\n",
              "      <td>0</td>\n",
              "      <td>0</td>\n",
              "      <td>21-08-2013</td>\n",
              "      <td>26</td>\n",
              "      <td>426.0</td>\n",
              "      <td>...</td>\n",
              "      <td>4</td>\n",
              "      <td>0</td>\n",
              "      <td>0</td>\n",
              "      <td>0</td>\n",
              "      <td>0</td>\n",
              "      <td>0</td>\n",
              "      <td>0</td>\n",
              "      <td>3</td>\n",
              "      <td>11</td>\n",
              "      <td>1</td>\n",
              "    </tr>\n",
              "    <tr>\n",
              "      <th>3</th>\n",
              "      <td>6182</td>\n",
              "      <td>1984</td>\n",
              "      <td>Graduation</td>\n",
              "      <td>Together</td>\n",
              "      <td>26646.0</td>\n",
              "      <td>1</td>\n",
              "      <td>0</td>\n",
              "      <td>10/2/2014</td>\n",
              "      <td>26</td>\n",
              "      <td>11.0</td>\n",
              "      <td>...</td>\n",
              "      <td>6</td>\n",
              "      <td>0</td>\n",
              "      <td>0</td>\n",
              "      <td>0</td>\n",
              "      <td>0</td>\n",
              "      <td>0</td>\n",
              "      <td>0</td>\n",
              "      <td>3</td>\n",
              "      <td>11</td>\n",
              "      <td>0</td>\n",
              "    </tr>\n",
              "    <tr>\n",
              "      <th>4</th>\n",
              "      <td>5324</td>\n",
              "      <td>1981</td>\n",
              "      <td>PhD</td>\n",
              "      <td>Married</td>\n",
              "      <td>58293.0</td>\n",
              "      <td>1</td>\n",
              "      <td>0</td>\n",
              "      <td>19-01-2014</td>\n",
              "      <td>94</td>\n",
              "      <td>173.0</td>\n",
              "      <td>...</td>\n",
              "      <td>5</td>\n",
              "      <td>0</td>\n",
              "      <td>0</td>\n",
              "      <td>0</td>\n",
              "      <td>0</td>\n",
              "      <td>0</td>\n",
              "      <td>0</td>\n",
              "      <td>3</td>\n",
              "      <td>11</td>\n",
              "      <td>0</td>\n",
              "    </tr>\n",
              "  </tbody>\n",
              "</table>\n",
              "<p>5 rows × 29 columns</p>\n",
              "</div>\n",
              "    <div class=\"colab-df-buttons\">\n",
              "\n",
              "  <div class=\"colab-df-container\">\n",
              "    <button class=\"colab-df-convert\" onclick=\"convertToInteractive('df-73f887fa-4714-4eb1-81aa-2dbec8afdd60')\"\n",
              "            title=\"Convert this dataframe to an interactive table.\"\n",
              "            style=\"display:none;\">\n",
              "\n",
              "  <svg xmlns=\"http://www.w3.org/2000/svg\" height=\"24px\" viewBox=\"0 -960 960 960\">\n",
              "    <path d=\"M120-120v-720h720v720H120Zm60-500h600v-160H180v160Zm220 220h160v-160H400v160Zm0 220h160v-160H400v160ZM180-400h160v-160H180v160Zm440 0h160v-160H620v160ZM180-180h160v-160H180v160Zm440 0h160v-160H620v160Z\"/>\n",
              "  </svg>\n",
              "    </button>\n",
              "\n",
              "  <style>\n",
              "    .colab-df-container {\n",
              "      display:flex;\n",
              "      gap: 12px;\n",
              "    }\n",
              "\n",
              "    .colab-df-convert {\n",
              "      background-color: #E8F0FE;\n",
              "      border: none;\n",
              "      border-radius: 50%;\n",
              "      cursor: pointer;\n",
              "      display: none;\n",
              "      fill: #1967D2;\n",
              "      height: 32px;\n",
              "      padding: 0 0 0 0;\n",
              "      width: 32px;\n",
              "    }\n",
              "\n",
              "    .colab-df-convert:hover {\n",
              "      background-color: #E2EBFA;\n",
              "      box-shadow: 0px 1px 2px rgba(60, 64, 67, 0.3), 0px 1px 3px 1px rgba(60, 64, 67, 0.15);\n",
              "      fill: #174EA6;\n",
              "    }\n",
              "\n",
              "    .colab-df-buttons div {\n",
              "      margin-bottom: 4px;\n",
              "    }\n",
              "\n",
              "    [theme=dark] .colab-df-convert {\n",
              "      background-color: #3B4455;\n",
              "      fill: #D2E3FC;\n",
              "    }\n",
              "\n",
              "    [theme=dark] .colab-df-convert:hover {\n",
              "      background-color: #434B5C;\n",
              "      box-shadow: 0px 1px 3px 1px rgba(0, 0, 0, 0.15);\n",
              "      filter: drop-shadow(0px 1px 2px rgba(0, 0, 0, 0.3));\n",
              "      fill: #FFFFFF;\n",
              "    }\n",
              "  </style>\n",
              "\n",
              "    <script>\n",
              "      const buttonEl =\n",
              "        document.querySelector('#df-73f887fa-4714-4eb1-81aa-2dbec8afdd60 button.colab-df-convert');\n",
              "      buttonEl.style.display =\n",
              "        google.colab.kernel.accessAllowed ? 'block' : 'none';\n",
              "\n",
              "      async function convertToInteractive(key) {\n",
              "        const element = document.querySelector('#df-73f887fa-4714-4eb1-81aa-2dbec8afdd60');\n",
              "        const dataTable =\n",
              "          await google.colab.kernel.invokeFunction('convertToInteractive',\n",
              "                                                    [key], {});\n",
              "        if (!dataTable) return;\n",
              "\n",
              "        const docLinkHtml = 'Like what you see? Visit the ' +\n",
              "          '<a target=\"_blank\" href=https://colab.research.google.com/notebooks/data_table.ipynb>data table notebook</a>'\n",
              "          + ' to learn more about interactive tables.';\n",
              "        element.innerHTML = '';\n",
              "        dataTable['output_type'] = 'display_data';\n",
              "        await google.colab.output.renderOutput(dataTable, element);\n",
              "        const docLink = document.createElement('div');\n",
              "        docLink.innerHTML = docLinkHtml;\n",
              "        element.appendChild(docLink);\n",
              "      }\n",
              "    </script>\n",
              "  </div>\n",
              "\n",
              "\n",
              "<div id=\"df-7d7e56ee-1a4b-4927-85d7-97f9bc935d3f\">\n",
              "  <button class=\"colab-df-quickchart\" onclick=\"quickchart('df-7d7e56ee-1a4b-4927-85d7-97f9bc935d3f')\"\n",
              "            title=\"Suggest charts\"\n",
              "            style=\"display:none;\">\n",
              "\n",
              "<svg xmlns=\"http://www.w3.org/2000/svg\" height=\"24px\"viewBox=\"0 0 24 24\"\n",
              "     width=\"24px\">\n",
              "    <g>\n",
              "        <path d=\"M19 3H5c-1.1 0-2 .9-2 2v14c0 1.1.9 2 2 2h14c1.1 0 2-.9 2-2V5c0-1.1-.9-2-2-2zM9 17H7v-7h2v7zm4 0h-2V7h2v10zm4 0h-2v-4h2v4z\"/>\n",
              "    </g>\n",
              "</svg>\n",
              "  </button>\n",
              "\n",
              "<style>\n",
              "  .colab-df-quickchart {\n",
              "      --bg-color: #E8F0FE;\n",
              "      --fill-color: #1967D2;\n",
              "      --hover-bg-color: #E2EBFA;\n",
              "      --hover-fill-color: #174EA6;\n",
              "      --disabled-fill-color: #AAA;\n",
              "      --disabled-bg-color: #DDD;\n",
              "  }\n",
              "\n",
              "  [theme=dark] .colab-df-quickchart {\n",
              "      --bg-color: #3B4455;\n",
              "      --fill-color: #D2E3FC;\n",
              "      --hover-bg-color: #434B5C;\n",
              "      --hover-fill-color: #FFFFFF;\n",
              "      --disabled-bg-color: #3B4455;\n",
              "      --disabled-fill-color: #666;\n",
              "  }\n",
              "\n",
              "  .colab-df-quickchart {\n",
              "    background-color: var(--bg-color);\n",
              "    border: none;\n",
              "    border-radius: 50%;\n",
              "    cursor: pointer;\n",
              "    display: none;\n",
              "    fill: var(--fill-color);\n",
              "    height: 32px;\n",
              "    padding: 0;\n",
              "    width: 32px;\n",
              "  }\n",
              "\n",
              "  .colab-df-quickchart:hover {\n",
              "    background-color: var(--hover-bg-color);\n",
              "    box-shadow: 0 1px 2px rgba(60, 64, 67, 0.3), 0 1px 3px 1px rgba(60, 64, 67, 0.15);\n",
              "    fill: var(--button-hover-fill-color);\n",
              "  }\n",
              "\n",
              "  .colab-df-quickchart-complete:disabled,\n",
              "  .colab-df-quickchart-complete:disabled:hover {\n",
              "    background-color: var(--disabled-bg-color);\n",
              "    fill: var(--disabled-fill-color);\n",
              "    box-shadow: none;\n",
              "  }\n",
              "\n",
              "  .colab-df-spinner {\n",
              "    border: 2px solid var(--fill-color);\n",
              "    border-color: transparent;\n",
              "    border-bottom-color: var(--fill-color);\n",
              "    animation:\n",
              "      spin 1s steps(1) infinite;\n",
              "  }\n",
              "\n",
              "  @keyframes spin {\n",
              "    0% {\n",
              "      border-color: transparent;\n",
              "      border-bottom-color: var(--fill-color);\n",
              "      border-left-color: var(--fill-color);\n",
              "    }\n",
              "    20% {\n",
              "      border-color: transparent;\n",
              "      border-left-color: var(--fill-color);\n",
              "      border-top-color: var(--fill-color);\n",
              "    }\n",
              "    30% {\n",
              "      border-color: transparent;\n",
              "      border-left-color: var(--fill-color);\n",
              "      border-top-color: var(--fill-color);\n",
              "      border-right-color: var(--fill-color);\n",
              "    }\n",
              "    40% {\n",
              "      border-color: transparent;\n",
              "      border-right-color: var(--fill-color);\n",
              "      border-top-color: var(--fill-color);\n",
              "    }\n",
              "    60% {\n",
              "      border-color: transparent;\n",
              "      border-right-color: var(--fill-color);\n",
              "    }\n",
              "    80% {\n",
              "      border-color: transparent;\n",
              "      border-right-color: var(--fill-color);\n",
              "      border-bottom-color: var(--fill-color);\n",
              "    }\n",
              "    90% {\n",
              "      border-color: transparent;\n",
              "      border-bottom-color: var(--fill-color);\n",
              "    }\n",
              "  }\n",
              "</style>\n",
              "\n",
              "  <script>\n",
              "    async function quickchart(key) {\n",
              "      const quickchartButtonEl =\n",
              "        document.querySelector('#' + key + ' button');\n",
              "      quickchartButtonEl.disabled = true;  // To prevent multiple clicks.\n",
              "      quickchartButtonEl.classList.add('colab-df-spinner');\n",
              "      try {\n",
              "        const charts = await google.colab.kernel.invokeFunction(\n",
              "            'suggestCharts', [key], {});\n",
              "      } catch (error) {\n",
              "        console.error('Error during call to suggestCharts:', error);\n",
              "      }\n",
              "      quickchartButtonEl.classList.remove('colab-df-spinner');\n",
              "      quickchartButtonEl.classList.add('colab-df-quickchart-complete');\n",
              "    }\n",
              "    (() => {\n",
              "      let quickchartButtonEl =\n",
              "        document.querySelector('#df-7d7e56ee-1a4b-4927-85d7-97f9bc935d3f button');\n",
              "      quickchartButtonEl.style.display =\n",
              "        google.colab.kernel.accessAllowed ? 'block' : 'none';\n",
              "    })();\n",
              "  </script>\n",
              "</div>\n",
              "\n",
              "    </div>\n",
              "  </div>\n"
            ],
            "application/vnd.google.colaboratory.intrinsic+json": {
              "type": "dataframe",
              "variable_name": "df"
            }
          },
          "metadata": {},
          "execution_count": 3
        }
      ]
    },
    {
      "cell_type": "code",
      "source": [
        "df.info()"
      ],
      "metadata": {
        "colab": {
          "base_uri": "https://localhost:8080/"
        },
        "id": "NLs47JmwfZpN",
        "outputId": "f8a04edb-c769-4b2f-a367-aeed44332754"
      },
      "execution_count": 4,
      "outputs": [
        {
          "output_type": "stream",
          "name": "stdout",
          "text": [
            "<class 'pandas.core.frame.DataFrame'>\n",
            "RangeIndex: 1567 entries, 0 to 1566\n",
            "Data columns (total 29 columns):\n",
            " #   Column               Non-Null Count  Dtype  \n",
            "---  ------               --------------  -----  \n",
            " 0   ID                   1567 non-null   int64  \n",
            " 1   Year_Birth           1567 non-null   int64  \n",
            " 2   Education            1567 non-null   object \n",
            " 3   Marital_Status       1567 non-null   object \n",
            " 4   Income               1550 non-null   float64\n",
            " 5   Kidhome              1567 non-null   int64  \n",
            " 6   Teenhome             1567 non-null   int64  \n",
            " 7   Dt_Customer          1567 non-null   object \n",
            " 8   Recency              1567 non-null   int64  \n",
            " 9   MntWines             1544 non-null   float64\n",
            " 10  MntFruits            1567 non-null   int64  \n",
            " 11  MntMeatProducts      1561 non-null   float64\n",
            " 12  MntFishProducts      1567 non-null   int64  \n",
            " 13  MntSweetProducts     1567 non-null   int64  \n",
            " 14  MntGoldProds         1555 non-null   float64\n",
            " 15  NumDealsPurchases    1567 non-null   int64  \n",
            " 16  NumWebPurchases      1567 non-null   int64  \n",
            " 17  NumCatalogPurchases  1567 non-null   int64  \n",
            " 18  NumStorePurchases    1567 non-null   int64  \n",
            " 19  NumWebVisitsMonth    1567 non-null   int64  \n",
            " 20  AcceptedCmp3         1567 non-null   int64  \n",
            " 21  AcceptedCmp4         1567 non-null   int64  \n",
            " 22  AcceptedCmp5         1567 non-null   int64  \n",
            " 23  AcceptedCmp1         1567 non-null   int64  \n",
            " 24  AcceptedCmp2         1567 non-null   int64  \n",
            " 25  Complain             1567 non-null   int64  \n",
            " 26  Z_CostContact        1567 non-null   int64  \n",
            " 27  Z_Revenue            1567 non-null   int64  \n",
            " 28  Target               1567 non-null   int64  \n",
            "dtypes: float64(4), int64(22), object(3)\n",
            "memory usage: 355.2+ KB\n"
          ]
        }
      ]
    },
    {
      "cell_type": "code",
      "source": [
        "df = df.drop(['ID', 'Dt_Customer'], axis = 1)"
      ],
      "metadata": {
        "id": "cqh3UrPBfdye"
      },
      "execution_count": 5,
      "outputs": []
    },
    {
      "cell_type": "code",
      "source": [
        "df.info()"
      ],
      "metadata": {
        "colab": {
          "base_uri": "https://localhost:8080/"
        },
        "id": "XGsEPnjOfrEd",
        "outputId": "a706adbd-a8d1-4264-f413-95483759bf72"
      },
      "execution_count": 6,
      "outputs": [
        {
          "output_type": "stream",
          "name": "stdout",
          "text": [
            "<class 'pandas.core.frame.DataFrame'>\n",
            "RangeIndex: 1567 entries, 0 to 1566\n",
            "Data columns (total 27 columns):\n",
            " #   Column               Non-Null Count  Dtype  \n",
            "---  ------               --------------  -----  \n",
            " 0   Year_Birth           1567 non-null   int64  \n",
            " 1   Education            1567 non-null   object \n",
            " 2   Marital_Status       1567 non-null   object \n",
            " 3   Income               1550 non-null   float64\n",
            " 4   Kidhome              1567 non-null   int64  \n",
            " 5   Teenhome             1567 non-null   int64  \n",
            " 6   Recency              1567 non-null   int64  \n",
            " 7   MntWines             1544 non-null   float64\n",
            " 8   MntFruits            1567 non-null   int64  \n",
            " 9   MntMeatProducts      1561 non-null   float64\n",
            " 10  MntFishProducts      1567 non-null   int64  \n",
            " 11  MntSweetProducts     1567 non-null   int64  \n",
            " 12  MntGoldProds         1555 non-null   float64\n",
            " 13  NumDealsPurchases    1567 non-null   int64  \n",
            " 14  NumWebPurchases      1567 non-null   int64  \n",
            " 15  NumCatalogPurchases  1567 non-null   int64  \n",
            " 16  NumStorePurchases    1567 non-null   int64  \n",
            " 17  NumWebVisitsMonth    1567 non-null   int64  \n",
            " 18  AcceptedCmp3         1567 non-null   int64  \n",
            " 19  AcceptedCmp4         1567 non-null   int64  \n",
            " 20  AcceptedCmp5         1567 non-null   int64  \n",
            " 21  AcceptedCmp1         1567 non-null   int64  \n",
            " 22  AcceptedCmp2         1567 non-null   int64  \n",
            " 23  Complain             1567 non-null   int64  \n",
            " 24  Z_CostContact        1567 non-null   int64  \n",
            " 25  Z_Revenue            1567 non-null   int64  \n",
            " 26  Target               1567 non-null   int64  \n",
            "dtypes: float64(4), int64(21), object(2)\n",
            "memory usage: 330.7+ KB\n"
          ]
        }
      ]
    },
    {
      "cell_type": "code",
      "source": [
        "df['Age'] = 2025 - df['Year_Birth']\n",
        "df = df.drop('Year_Birth', axis = 1)"
      ],
      "metadata": {
        "id": "S05cxwqGfs4Q"
      },
      "execution_count": 7,
      "outputs": []
    },
    {
      "cell_type": "code",
      "source": [
        "df.info()"
      ],
      "metadata": {
        "colab": {
          "base_uri": "https://localhost:8080/"
        },
        "id": "8BRnB4dAf2Nt",
        "outputId": "f150f6e8-3b55-4b2c-ff4e-2649a249b43f"
      },
      "execution_count": 8,
      "outputs": [
        {
          "output_type": "stream",
          "name": "stdout",
          "text": [
            "<class 'pandas.core.frame.DataFrame'>\n",
            "RangeIndex: 1567 entries, 0 to 1566\n",
            "Data columns (total 27 columns):\n",
            " #   Column               Non-Null Count  Dtype  \n",
            "---  ------               --------------  -----  \n",
            " 0   Education            1567 non-null   object \n",
            " 1   Marital_Status       1567 non-null   object \n",
            " 2   Income               1550 non-null   float64\n",
            " 3   Kidhome              1567 non-null   int64  \n",
            " 4   Teenhome             1567 non-null   int64  \n",
            " 5   Recency              1567 non-null   int64  \n",
            " 6   MntWines             1544 non-null   float64\n",
            " 7   MntFruits            1567 non-null   int64  \n",
            " 8   MntMeatProducts      1561 non-null   float64\n",
            " 9   MntFishProducts      1567 non-null   int64  \n",
            " 10  MntSweetProducts     1567 non-null   int64  \n",
            " 11  MntGoldProds         1555 non-null   float64\n",
            " 12  NumDealsPurchases    1567 non-null   int64  \n",
            " 13  NumWebPurchases      1567 non-null   int64  \n",
            " 14  NumCatalogPurchases  1567 non-null   int64  \n",
            " 15  NumStorePurchases    1567 non-null   int64  \n",
            " 16  NumWebVisitsMonth    1567 non-null   int64  \n",
            " 17  AcceptedCmp3         1567 non-null   int64  \n",
            " 18  AcceptedCmp4         1567 non-null   int64  \n",
            " 19  AcceptedCmp5         1567 non-null   int64  \n",
            " 20  AcceptedCmp1         1567 non-null   int64  \n",
            " 21  AcceptedCmp2         1567 non-null   int64  \n",
            " 22  Complain             1567 non-null   int64  \n",
            " 23  Z_CostContact        1567 non-null   int64  \n",
            " 24  Z_Revenue            1567 non-null   int64  \n",
            " 25  Target               1567 non-null   int64  \n",
            " 26  Age                  1567 non-null   int64  \n",
            "dtypes: float64(4), int64(21), object(2)\n",
            "memory usage: 330.7+ KB\n"
          ]
        }
      ]
    },
    {
      "cell_type": "code",
      "source": [
        "df['Income'] = df['Income'].fillna(df['Income'].median())"
      ],
      "metadata": {
        "id": "j8s2feHtf31V"
      },
      "execution_count": 11,
      "outputs": []
    },
    {
      "cell_type": "code",
      "source": [
        "df.info()"
      ],
      "metadata": {
        "colab": {
          "base_uri": "https://localhost:8080/"
        },
        "id": "pH3nUL8ngHxH",
        "outputId": "37a973e7-a0f9-4c0a-b708-a9e4af239d59"
      },
      "execution_count": 12,
      "outputs": [
        {
          "output_type": "stream",
          "name": "stdout",
          "text": [
            "<class 'pandas.core.frame.DataFrame'>\n",
            "RangeIndex: 1567 entries, 0 to 1566\n",
            "Data columns (total 27 columns):\n",
            " #   Column               Non-Null Count  Dtype  \n",
            "---  ------               --------------  -----  \n",
            " 0   Education            1567 non-null   object \n",
            " 1   Marital_Status       1567 non-null   object \n",
            " 2   Income               1567 non-null   float64\n",
            " 3   Kidhome              1567 non-null   int64  \n",
            " 4   Teenhome             1567 non-null   int64  \n",
            " 5   Recency              1567 non-null   int64  \n",
            " 6   MntWines             1544 non-null   float64\n",
            " 7   MntFruits            1567 non-null   int64  \n",
            " 8   MntMeatProducts      1561 non-null   float64\n",
            " 9   MntFishProducts      1567 non-null   int64  \n",
            " 10  MntSweetProducts     1567 non-null   int64  \n",
            " 11  MntGoldProds         1555 non-null   float64\n",
            " 12  NumDealsPurchases    1567 non-null   int64  \n",
            " 13  NumWebPurchases      1567 non-null   int64  \n",
            " 14  NumCatalogPurchases  1567 non-null   int64  \n",
            " 15  NumStorePurchases    1567 non-null   int64  \n",
            " 16  NumWebVisitsMonth    1567 non-null   int64  \n",
            " 17  AcceptedCmp3         1567 non-null   int64  \n",
            " 18  AcceptedCmp4         1567 non-null   int64  \n",
            " 19  AcceptedCmp5         1567 non-null   int64  \n",
            " 20  AcceptedCmp1         1567 non-null   int64  \n",
            " 21  AcceptedCmp2         1567 non-null   int64  \n",
            " 22  Complain             1567 non-null   int64  \n",
            " 23  Z_CostContact        1567 non-null   int64  \n",
            " 24  Z_Revenue            1567 non-null   int64  \n",
            " 25  Target               1567 non-null   int64  \n",
            " 26  Age                  1567 non-null   int64  \n",
            "dtypes: float64(4), int64(21), object(2)\n",
            "memory usage: 330.7+ KB\n"
          ]
        }
      ]
    },
    {
      "cell_type": "code",
      "source": [
        "df['MntWines'] = df['MntWines'].fillna(df['MntWines'].median())"
      ],
      "metadata": {
        "id": "W4fYwbergUfk"
      },
      "execution_count": 13,
      "outputs": []
    },
    {
      "cell_type": "code",
      "source": [
        "df.info()"
      ],
      "metadata": {
        "colab": {
          "base_uri": "https://localhost:8080/"
        },
        "id": "iqL3CodYgjqf",
        "outputId": "400ade3a-43aa-4ee5-cb5a-4741bbc77295"
      },
      "execution_count": 14,
      "outputs": [
        {
          "output_type": "stream",
          "name": "stdout",
          "text": [
            "<class 'pandas.core.frame.DataFrame'>\n",
            "RangeIndex: 1567 entries, 0 to 1566\n",
            "Data columns (total 27 columns):\n",
            " #   Column               Non-Null Count  Dtype  \n",
            "---  ------               --------------  -----  \n",
            " 0   Education            1567 non-null   object \n",
            " 1   Marital_Status       1567 non-null   object \n",
            " 2   Income               1567 non-null   float64\n",
            " 3   Kidhome              1567 non-null   int64  \n",
            " 4   Teenhome             1567 non-null   int64  \n",
            " 5   Recency              1567 non-null   int64  \n",
            " 6   MntWines             1567 non-null   float64\n",
            " 7   MntFruits            1567 non-null   int64  \n",
            " 8   MntMeatProducts      1561 non-null   float64\n",
            " 9   MntFishProducts      1567 non-null   int64  \n",
            " 10  MntSweetProducts     1567 non-null   int64  \n",
            " 11  MntGoldProds         1555 non-null   float64\n",
            " 12  NumDealsPurchases    1567 non-null   int64  \n",
            " 13  NumWebPurchases      1567 non-null   int64  \n",
            " 14  NumCatalogPurchases  1567 non-null   int64  \n",
            " 15  NumStorePurchases    1567 non-null   int64  \n",
            " 16  NumWebVisitsMonth    1567 non-null   int64  \n",
            " 17  AcceptedCmp3         1567 non-null   int64  \n",
            " 18  AcceptedCmp4         1567 non-null   int64  \n",
            " 19  AcceptedCmp5         1567 non-null   int64  \n",
            " 20  AcceptedCmp1         1567 non-null   int64  \n",
            " 21  AcceptedCmp2         1567 non-null   int64  \n",
            " 22  Complain             1567 non-null   int64  \n",
            " 23  Z_CostContact        1567 non-null   int64  \n",
            " 24  Z_Revenue            1567 non-null   int64  \n",
            " 25  Target               1567 non-null   int64  \n",
            " 26  Age                  1567 non-null   int64  \n",
            "dtypes: float64(4), int64(21), object(2)\n",
            "memory usage: 330.7+ KB\n"
          ]
        }
      ]
    },
    {
      "cell_type": "code",
      "source": [
        "df['MntMeatProducts'] = df['MntMeatProducts'].fillna(df['MntMeatProducts'].median())"
      ],
      "metadata": {
        "id": "1N0ClXH8gln3"
      },
      "execution_count": 15,
      "outputs": []
    },
    {
      "cell_type": "code",
      "source": [
        "df.info()"
      ],
      "metadata": {
        "colab": {
          "base_uri": "https://localhost:8080/"
        },
        "id": "hJ4fBmHFgwpv",
        "outputId": "2ae00ec0-b15c-4e8d-846b-8712ca950f09"
      },
      "execution_count": 16,
      "outputs": [
        {
          "output_type": "stream",
          "name": "stdout",
          "text": [
            "<class 'pandas.core.frame.DataFrame'>\n",
            "RangeIndex: 1567 entries, 0 to 1566\n",
            "Data columns (total 27 columns):\n",
            " #   Column               Non-Null Count  Dtype  \n",
            "---  ------               --------------  -----  \n",
            " 0   Education            1567 non-null   object \n",
            " 1   Marital_Status       1567 non-null   object \n",
            " 2   Income               1567 non-null   float64\n",
            " 3   Kidhome              1567 non-null   int64  \n",
            " 4   Teenhome             1567 non-null   int64  \n",
            " 5   Recency              1567 non-null   int64  \n",
            " 6   MntWines             1567 non-null   float64\n",
            " 7   MntFruits            1567 non-null   int64  \n",
            " 8   MntMeatProducts      1567 non-null   float64\n",
            " 9   MntFishProducts      1567 non-null   int64  \n",
            " 10  MntSweetProducts     1567 non-null   int64  \n",
            " 11  MntGoldProds         1555 non-null   float64\n",
            " 12  NumDealsPurchases    1567 non-null   int64  \n",
            " 13  NumWebPurchases      1567 non-null   int64  \n",
            " 14  NumCatalogPurchases  1567 non-null   int64  \n",
            " 15  NumStorePurchases    1567 non-null   int64  \n",
            " 16  NumWebVisitsMonth    1567 non-null   int64  \n",
            " 17  AcceptedCmp3         1567 non-null   int64  \n",
            " 18  AcceptedCmp4         1567 non-null   int64  \n",
            " 19  AcceptedCmp5         1567 non-null   int64  \n",
            " 20  AcceptedCmp1         1567 non-null   int64  \n",
            " 21  AcceptedCmp2         1567 non-null   int64  \n",
            " 22  Complain             1567 non-null   int64  \n",
            " 23  Z_CostContact        1567 non-null   int64  \n",
            " 24  Z_Revenue            1567 non-null   int64  \n",
            " 25  Target               1567 non-null   int64  \n",
            " 26  Age                  1567 non-null   int64  \n",
            "dtypes: float64(4), int64(21), object(2)\n",
            "memory usage: 330.7+ KB\n"
          ]
        }
      ]
    },
    {
      "cell_type": "code",
      "source": [
        "df['MntGoldProds'] = df['MntGoldProds'].fillna(df['MntGoldProds'].median())"
      ],
      "metadata": {
        "id": "yM680UXng4UV"
      },
      "execution_count": 17,
      "outputs": []
    },
    {
      "cell_type": "code",
      "source": [
        "df.info()"
      ],
      "metadata": {
        "colab": {
          "base_uri": "https://localhost:8080/"
        },
        "id": "GZ9z2X6DhBwv",
        "outputId": "5a3f811f-87b6-4c4e-8656-0b899b4490f3"
      },
      "execution_count": 18,
      "outputs": [
        {
          "output_type": "stream",
          "name": "stdout",
          "text": [
            "<class 'pandas.core.frame.DataFrame'>\n",
            "RangeIndex: 1567 entries, 0 to 1566\n",
            "Data columns (total 27 columns):\n",
            " #   Column               Non-Null Count  Dtype  \n",
            "---  ------               --------------  -----  \n",
            " 0   Education            1567 non-null   object \n",
            " 1   Marital_Status       1567 non-null   object \n",
            " 2   Income               1567 non-null   float64\n",
            " 3   Kidhome              1567 non-null   int64  \n",
            " 4   Teenhome             1567 non-null   int64  \n",
            " 5   Recency              1567 non-null   int64  \n",
            " 6   MntWines             1567 non-null   float64\n",
            " 7   MntFruits            1567 non-null   int64  \n",
            " 8   MntMeatProducts      1567 non-null   float64\n",
            " 9   MntFishProducts      1567 non-null   int64  \n",
            " 10  MntSweetProducts     1567 non-null   int64  \n",
            " 11  MntGoldProds         1567 non-null   float64\n",
            " 12  NumDealsPurchases    1567 non-null   int64  \n",
            " 13  NumWebPurchases      1567 non-null   int64  \n",
            " 14  NumCatalogPurchases  1567 non-null   int64  \n",
            " 15  NumStorePurchases    1567 non-null   int64  \n",
            " 16  NumWebVisitsMonth    1567 non-null   int64  \n",
            " 17  AcceptedCmp3         1567 non-null   int64  \n",
            " 18  AcceptedCmp4         1567 non-null   int64  \n",
            " 19  AcceptedCmp5         1567 non-null   int64  \n",
            " 20  AcceptedCmp1         1567 non-null   int64  \n",
            " 21  AcceptedCmp2         1567 non-null   int64  \n",
            " 22  Complain             1567 non-null   int64  \n",
            " 23  Z_CostContact        1567 non-null   int64  \n",
            " 24  Z_Revenue            1567 non-null   int64  \n",
            " 25  Target               1567 non-null   int64  \n",
            " 26  Age                  1567 non-null   int64  \n",
            "dtypes: float64(4), int64(21), object(2)\n",
            "memory usage: 330.7+ KB\n"
          ]
        }
      ]
    },
    {
      "cell_type": "code",
      "source": [
        "df = pd.get_dummies(df, columns=['Education'], drop_first=True)\n",
        "df = pd.get_dummies(df, columns=['Marital_Status'], drop_first=False)"
      ],
      "metadata": {
        "id": "rswxXEyhhDp3"
      },
      "execution_count": 19,
      "outputs": []
    },
    {
      "cell_type": "code",
      "source": [
        "df.info()"
      ],
      "metadata": {
        "colab": {
          "base_uri": "https://localhost:8080/"
        },
        "id": "6qYmPNm8hJcE",
        "outputId": "0b062a81-5c28-4f49-eb89-8b692f2dd69c"
      },
      "execution_count": 20,
      "outputs": [
        {
          "output_type": "stream",
          "name": "stdout",
          "text": [
            "<class 'pandas.core.frame.DataFrame'>\n",
            "RangeIndex: 1567 entries, 0 to 1566\n",
            "Data columns (total 35 columns):\n",
            " #   Column                   Non-Null Count  Dtype  \n",
            "---  ------                   --------------  -----  \n",
            " 0   Income                   1567 non-null   float64\n",
            " 1   Kidhome                  1567 non-null   int64  \n",
            " 2   Teenhome                 1567 non-null   int64  \n",
            " 3   Recency                  1567 non-null   int64  \n",
            " 4   MntWines                 1567 non-null   float64\n",
            " 5   MntFruits                1567 non-null   int64  \n",
            " 6   MntMeatProducts          1567 non-null   float64\n",
            " 7   MntFishProducts          1567 non-null   int64  \n",
            " 8   MntSweetProducts         1567 non-null   int64  \n",
            " 9   MntGoldProds             1567 non-null   float64\n",
            " 10  NumDealsPurchases        1567 non-null   int64  \n",
            " 11  NumWebPurchases          1567 non-null   int64  \n",
            " 12  NumCatalogPurchases      1567 non-null   int64  \n",
            " 13  NumStorePurchases        1567 non-null   int64  \n",
            " 14  NumWebVisitsMonth        1567 non-null   int64  \n",
            " 15  AcceptedCmp3             1567 non-null   int64  \n",
            " 16  AcceptedCmp4             1567 non-null   int64  \n",
            " 17  AcceptedCmp5             1567 non-null   int64  \n",
            " 18  AcceptedCmp1             1567 non-null   int64  \n",
            " 19  AcceptedCmp2             1567 non-null   int64  \n",
            " 20  Complain                 1567 non-null   int64  \n",
            " 21  Z_CostContact            1567 non-null   int64  \n",
            " 22  Z_Revenue                1567 non-null   int64  \n",
            " 23  Target                   1567 non-null   int64  \n",
            " 24  Age                      1567 non-null   int64  \n",
            " 25  Education_Basic          1567 non-null   bool   \n",
            " 26  Education_Graduation     1567 non-null   bool   \n",
            " 27  Education_Master         1567 non-null   bool   \n",
            " 28  Education_PhD            1567 non-null   bool   \n",
            " 29  Marital_Status_Alone     1567 non-null   bool   \n",
            " 30  Marital_Status_Divorced  1567 non-null   bool   \n",
            " 31  Marital_Status_Married   1567 non-null   bool   \n",
            " 32  Marital_Status_Single    1567 non-null   bool   \n",
            " 33  Marital_Status_Together  1567 non-null   bool   \n",
            " 34  Marital_Status_Widow     1567 non-null   bool   \n",
            "dtypes: bool(10), float64(4), int64(21)\n",
            "memory usage: 321.5 KB\n"
          ]
        }
      ]
    },
    {
      "cell_type": "code",
      "source": [
        "# Feature Scaling\n",
        "from sklearn.preprocessing import StandardScaler"
      ],
      "metadata": {
        "id": "epeqxicLiByD"
      },
      "execution_count": 21,
      "outputs": []
    },
    {
      "cell_type": "code",
      "source": [
        "# Select only numeric columns (excluding boolean + target)\n",
        "num_cols = df.select_dtypes(include=['float64', 'int64']).drop('Target', axis=1).columns\n",
        "\n",
        "scaler = StandardScaler()\n",
        "df[num_cols] = scaler.fit_transform(df[num_cols])"
      ],
      "metadata": {
        "id": "-8BPl8ehiEFG"
      },
      "execution_count": 22,
      "outputs": []
    },
    {
      "cell_type": "code",
      "source": [
        "df.info()"
      ],
      "metadata": {
        "colab": {
          "base_uri": "https://localhost:8080/"
        },
        "id": "96CpIzaqiKWK",
        "outputId": "4ac81002-f563-477d-bb8e-dfc36e3d948e"
      },
      "execution_count": 23,
      "outputs": [
        {
          "output_type": "stream",
          "name": "stdout",
          "text": [
            "<class 'pandas.core.frame.DataFrame'>\n",
            "RangeIndex: 1567 entries, 0 to 1566\n",
            "Data columns (total 35 columns):\n",
            " #   Column                   Non-Null Count  Dtype  \n",
            "---  ------                   --------------  -----  \n",
            " 0   Income                   1567 non-null   float64\n",
            " 1   Kidhome                  1567 non-null   float64\n",
            " 2   Teenhome                 1567 non-null   float64\n",
            " 3   Recency                  1567 non-null   float64\n",
            " 4   MntWines                 1567 non-null   float64\n",
            " 5   MntFruits                1567 non-null   float64\n",
            " 6   MntMeatProducts          1567 non-null   float64\n",
            " 7   MntFishProducts          1567 non-null   float64\n",
            " 8   MntSweetProducts         1567 non-null   float64\n",
            " 9   MntGoldProds             1567 non-null   float64\n",
            " 10  NumDealsPurchases        1567 non-null   float64\n",
            " 11  NumWebPurchases          1567 non-null   float64\n",
            " 12  NumCatalogPurchases      1567 non-null   float64\n",
            " 13  NumStorePurchases        1567 non-null   float64\n",
            " 14  NumWebVisitsMonth        1567 non-null   float64\n",
            " 15  AcceptedCmp3             1567 non-null   float64\n",
            " 16  AcceptedCmp4             1567 non-null   float64\n",
            " 17  AcceptedCmp5             1567 non-null   float64\n",
            " 18  AcceptedCmp1             1567 non-null   float64\n",
            " 19  AcceptedCmp2             1567 non-null   float64\n",
            " 20  Complain                 1567 non-null   float64\n",
            " 21  Z_CostContact            1567 non-null   float64\n",
            " 22  Z_Revenue                1567 non-null   float64\n",
            " 23  Target                   1567 non-null   int64  \n",
            " 24  Age                      1567 non-null   float64\n",
            " 25  Education_Basic          1567 non-null   bool   \n",
            " 26  Education_Graduation     1567 non-null   bool   \n",
            " 27  Education_Master         1567 non-null   bool   \n",
            " 28  Education_PhD            1567 non-null   bool   \n",
            " 29  Marital_Status_Alone     1567 non-null   bool   \n",
            " 30  Marital_Status_Divorced  1567 non-null   bool   \n",
            " 31  Marital_Status_Married   1567 non-null   bool   \n",
            " 32  Marital_Status_Single    1567 non-null   bool   \n",
            " 33  Marital_Status_Together  1567 non-null   bool   \n",
            " 34  Marital_Status_Widow     1567 non-null   bool   \n",
            "dtypes: bool(10), float64(24), int64(1)\n",
            "memory usage: 321.5 KB\n"
          ]
        }
      ]
    },
    {
      "cell_type": "code",
      "source": [
        "from sklearn.model_selection import train_test_split\n",
        "\n",
        "X = df.drop('Target', axis=1)\n",
        "y = df['Target']\n",
        "\n",
        "X_train, X_test, y_train, y_test = train_test_split(X, y, test_size=0.2, random_state=42)\n"
      ],
      "metadata": {
        "id": "s5VTcimfiO7t"
      },
      "execution_count": 24,
      "outputs": []
    },
    {
      "cell_type": "code",
      "source": [
        "from tensorflow.keras.models import Sequential\n",
        "from tensorflow.keras.layers import Dense\n",
        "from tensorflow.keras.layers import BatchNormalization\n",
        "nn_model = Sequential([\n",
        "    Dense(256, input_dim=X_train.shape[1], activation='relu'),\n",
        "    Dense(128, activation='relu'),\n",
        "    Dense(64, activation='relu'),\n",
        "    Dense(32, activation='relu'),\n",
        "    Dense(1, activation='sigmoid')\n",
        "])\n",
        "\n",
        "nn_model.compile(optimizer='adam', loss='binary_crossentropy', metrics=['accuracy'])\n",
        "\n",
        "nn_model.fit(X_train, y_train, epochs=100, batch_size=32, validation_split=0.2)\n"
      ],
      "metadata": {
        "colab": {
          "base_uri": "https://localhost:8080/"
        },
        "id": "zElYE-VviSva",
        "outputId": "9b466c36-ff9c-4f50-9baf-32fb3c7946d2"
      },
      "execution_count": 70,
      "outputs": [
        {
          "output_type": "stream",
          "name": "stderr",
          "text": [
            "/usr/local/lib/python3.11/dist-packages/keras/src/layers/core/dense.py:87: UserWarning: Do not pass an `input_shape`/`input_dim` argument to a layer. When using Sequential models, prefer using an `Input(shape)` object as the first layer in the model instead.\n",
            "  super().__init__(activity_regularizer=activity_regularizer, **kwargs)\n"
          ]
        },
        {
          "output_type": "stream",
          "name": "stdout",
          "text": [
            "Epoch 1/100\n",
            "\u001b[1m32/32\u001b[0m \u001b[32m━━━━━━━━━━━━━━━━━━━━\u001b[0m\u001b[37m\u001b[0m \u001b[1m3s\u001b[0m 11ms/step - accuracy: 0.7329 - loss: 0.5576 - val_accuracy: 0.8088 - val_loss: 0.4105\n",
            "Epoch 2/100\n",
            "\u001b[1m32/32\u001b[0m \u001b[32m━━━━━━━━━━━━━━━━━━━━\u001b[0m\u001b[37m\u001b[0m \u001b[1m0s\u001b[0m 6ms/step - accuracy: 0.8538 - loss: 0.3319 - val_accuracy: 0.7849 - val_loss: 0.4563\n",
            "Epoch 3/100\n",
            "\u001b[1m32/32\u001b[0m \u001b[32m━━━━━━━━━━━━━━━━━━━━\u001b[0m\u001b[37m\u001b[0m \u001b[1m0s\u001b[0m 6ms/step - accuracy: 0.8516 - loss: 0.2940 - val_accuracy: 0.7888 - val_loss: 0.4288\n",
            "Epoch 4/100\n",
            "\u001b[1m32/32\u001b[0m \u001b[32m━━━━━━━━━━━━━━━━━━━━\u001b[0m\u001b[37m\u001b[0m \u001b[1m0s\u001b[0m 5ms/step - accuracy: 0.8795 - loss: 0.2844 - val_accuracy: 0.7968 - val_loss: 0.4702\n",
            "Epoch 5/100\n",
            "\u001b[1m32/32\u001b[0m \u001b[32m━━━━━━━━━━━━━━━━━━━━\u001b[0m\u001b[37m\u001b[0m \u001b[1m0s\u001b[0m 5ms/step - accuracy: 0.8741 - loss: 0.2665 - val_accuracy: 0.7968 - val_loss: 0.4780\n",
            "Epoch 6/100\n",
            "\u001b[1m32/32\u001b[0m \u001b[32m━━━━━━━━━━━━━━━━━━━━\u001b[0m\u001b[37m\u001b[0m \u001b[1m0s\u001b[0m 5ms/step - accuracy: 0.9155 - loss: 0.2107 - val_accuracy: 0.7888 - val_loss: 0.4766\n",
            "Epoch 7/100\n",
            "\u001b[1m32/32\u001b[0m \u001b[32m━━━━━━━━━━━━━━━━━━━━\u001b[0m\u001b[37m\u001b[0m \u001b[1m0s\u001b[0m 5ms/step - accuracy: 0.9118 - loss: 0.1914 - val_accuracy: 0.8048 - val_loss: 0.5467\n",
            "Epoch 8/100\n",
            "\u001b[1m32/32\u001b[0m \u001b[32m━━━━━━━━━━━━━━━━━━━━\u001b[0m\u001b[37m\u001b[0m \u001b[1m0s\u001b[0m 6ms/step - accuracy: 0.9271 - loss: 0.1750 - val_accuracy: 0.7809 - val_loss: 0.5886\n",
            "Epoch 9/100\n",
            "\u001b[1m32/32\u001b[0m \u001b[32m━━━━━━━━━━━━━━━━━━━━\u001b[0m\u001b[37m\u001b[0m \u001b[1m0s\u001b[0m 5ms/step - accuracy: 0.9267 - loss: 0.1584 - val_accuracy: 0.8008 - val_loss: 0.5923\n",
            "Epoch 10/100\n",
            "\u001b[1m32/32\u001b[0m \u001b[32m━━━━━━━━━━━━━━━━━━━━\u001b[0m\u001b[37m\u001b[0m \u001b[1m0s\u001b[0m 6ms/step - accuracy: 0.9433 - loss: 0.1535 - val_accuracy: 0.7769 - val_loss: 0.5912\n",
            "Epoch 11/100\n",
            "\u001b[1m32/32\u001b[0m \u001b[32m━━━━━━━━━━━━━━━━━━━━\u001b[0m\u001b[37m\u001b[0m \u001b[1m0s\u001b[0m 5ms/step - accuracy: 0.9433 - loss: 0.1390 - val_accuracy: 0.7888 - val_loss: 0.6853\n",
            "Epoch 12/100\n",
            "\u001b[1m32/32\u001b[0m \u001b[32m━━━━━━━━━━━━━━━━━━━━\u001b[0m\u001b[37m\u001b[0m \u001b[1m0s\u001b[0m 5ms/step - accuracy: 0.9544 - loss: 0.1157 - val_accuracy: 0.7769 - val_loss: 0.6910\n",
            "Epoch 13/100\n",
            "\u001b[1m32/32\u001b[0m \u001b[32m━━━━━━━━━━━━━━━━━━━━\u001b[0m\u001b[37m\u001b[0m \u001b[1m0s\u001b[0m 7ms/step - accuracy: 0.9547 - loss: 0.1088 - val_accuracy: 0.7928 - val_loss: 0.7514\n",
            "Epoch 14/100\n",
            "\u001b[1m32/32\u001b[0m \u001b[32m━━━━━━━━━━━━━━━━━━━━\u001b[0m\u001b[37m\u001b[0m \u001b[1m0s\u001b[0m 6ms/step - accuracy: 0.9772 - loss: 0.0868 - val_accuracy: 0.7769 - val_loss: 0.7672\n",
            "Epoch 15/100\n",
            "\u001b[1m32/32\u001b[0m \u001b[32m━━━━━━━━━━━━━━━━━━━━\u001b[0m\u001b[37m\u001b[0m \u001b[1m0s\u001b[0m 5ms/step - accuracy: 0.9726 - loss: 0.0795 - val_accuracy: 0.7729 - val_loss: 0.7849\n",
            "Epoch 16/100\n",
            "\u001b[1m32/32\u001b[0m \u001b[32m━━━━━━━━━━━━━━━━━━━━\u001b[0m\u001b[37m\u001b[0m \u001b[1m0s\u001b[0m 5ms/step - accuracy: 0.9674 - loss: 0.0756 - val_accuracy: 0.7849 - val_loss: 0.8690\n",
            "Epoch 17/100\n",
            "\u001b[1m32/32\u001b[0m \u001b[32m━━━━━━━━━━━━━━━━━━━━\u001b[0m\u001b[37m\u001b[0m \u001b[1m0s\u001b[0m 5ms/step - accuracy: 0.9728 - loss: 0.0808 - val_accuracy: 0.7928 - val_loss: 0.8347\n",
            "Epoch 18/100\n",
            "\u001b[1m32/32\u001b[0m \u001b[32m━━━━━━━━━━━━━━━━━━━━\u001b[0m\u001b[37m\u001b[0m \u001b[1m0s\u001b[0m 6ms/step - accuracy: 0.9605 - loss: 0.0883 - val_accuracy: 0.7928 - val_loss: 0.8627\n",
            "Epoch 19/100\n",
            "\u001b[1m32/32\u001b[0m \u001b[32m━━━━━━━━━━━━━━━━━━━━\u001b[0m\u001b[37m\u001b[0m \u001b[1m0s\u001b[0m 5ms/step - accuracy: 0.9783 - loss: 0.0535 - val_accuracy: 0.7888 - val_loss: 0.9474\n",
            "Epoch 20/100\n",
            "\u001b[1m32/32\u001b[0m \u001b[32m━━━━━━━━━━━━━━━━━━━━\u001b[0m\u001b[37m\u001b[0m \u001b[1m0s\u001b[0m 5ms/step - accuracy: 0.9827 - loss: 0.0471 - val_accuracy: 0.7689 - val_loss: 1.0681\n",
            "Epoch 21/100\n",
            "\u001b[1m32/32\u001b[0m \u001b[32m━━━━━━━━━━━━━━━━━━━━\u001b[0m\u001b[37m\u001b[0m \u001b[1m0s\u001b[0m 6ms/step - accuracy: 0.9738 - loss: 0.0767 - val_accuracy: 0.7729 - val_loss: 1.0393\n",
            "Epoch 22/100\n",
            "\u001b[1m32/32\u001b[0m \u001b[32m━━━━━━━━━━━━━━━━━━━━\u001b[0m\u001b[37m\u001b[0m \u001b[1m0s\u001b[0m 5ms/step - accuracy: 0.9779 - loss: 0.0620 - val_accuracy: 0.7689 - val_loss: 1.2352\n",
            "Epoch 23/100\n",
            "\u001b[1m32/32\u001b[0m \u001b[32m━━━━━━━━━━━━━━━━━━━━\u001b[0m\u001b[37m\u001b[0m \u001b[1m0s\u001b[0m 5ms/step - accuracy: 0.9858 - loss: 0.0355 - val_accuracy: 0.7610 - val_loss: 1.3113\n",
            "Epoch 24/100\n",
            "\u001b[1m32/32\u001b[0m \u001b[32m━━━━━━━━━━━━━━━━━━━━\u001b[0m\u001b[37m\u001b[0m \u001b[1m0s\u001b[0m 5ms/step - accuracy: 0.9731 - loss: 0.0673 - val_accuracy: 0.7649 - val_loss: 1.1701\n",
            "Epoch 25/100\n",
            "\u001b[1m32/32\u001b[0m \u001b[32m━━━━━━━━━━━━━━━━━━━━\u001b[0m\u001b[37m\u001b[0m \u001b[1m0s\u001b[0m 5ms/step - accuracy: 0.9928 - loss: 0.0350 - val_accuracy: 0.7769 - val_loss: 1.2165\n",
            "Epoch 26/100\n",
            "\u001b[1m32/32\u001b[0m \u001b[32m━━━━━━━━━━━━━━━━━━━━\u001b[0m\u001b[37m\u001b[0m \u001b[1m0s\u001b[0m 5ms/step - accuracy: 0.9848 - loss: 0.0342 - val_accuracy: 0.7689 - val_loss: 1.3389\n",
            "Epoch 27/100\n",
            "\u001b[1m32/32\u001b[0m \u001b[32m━━━━━━━━━━━━━━━━━━━━\u001b[0m\u001b[37m\u001b[0m \u001b[1m0s\u001b[0m 5ms/step - accuracy: 0.9814 - loss: 0.0399 - val_accuracy: 0.7689 - val_loss: 1.1675\n",
            "Epoch 28/100\n",
            "\u001b[1m32/32\u001b[0m \u001b[32m━━━━━━━━━━━━━━━━━━━━\u001b[0m\u001b[37m\u001b[0m \u001b[1m0s\u001b[0m 6ms/step - accuracy: 0.9787 - loss: 0.0378 - val_accuracy: 0.7849 - val_loss: 1.2770\n",
            "Epoch 29/100\n",
            "\u001b[1m32/32\u001b[0m \u001b[32m━━━━━━━━━━━━━━━━━━━━\u001b[0m\u001b[37m\u001b[0m \u001b[1m0s\u001b[0m 5ms/step - accuracy: 0.9778 - loss: 0.0494 - val_accuracy: 0.7729 - val_loss: 1.1353\n",
            "Epoch 30/100\n",
            "\u001b[1m32/32\u001b[0m \u001b[32m━━━━━━━━━━━━━━━━━━━━\u001b[0m\u001b[37m\u001b[0m \u001b[1m0s\u001b[0m 5ms/step - accuracy: 0.9785 - loss: 0.0463 - val_accuracy: 0.7809 - val_loss: 1.1282\n",
            "Epoch 31/100\n",
            "\u001b[1m32/32\u001b[0m \u001b[32m━━━━━━━━━━━━━━━━━━━━\u001b[0m\u001b[37m\u001b[0m \u001b[1m0s\u001b[0m 5ms/step - accuracy: 0.9849 - loss: 0.0406 - val_accuracy: 0.7689 - val_loss: 1.2454\n",
            "Epoch 32/100\n",
            "\u001b[1m32/32\u001b[0m \u001b[32m━━━━━━━━━━━━━━━━━━━━\u001b[0m\u001b[37m\u001b[0m \u001b[1m0s\u001b[0m 5ms/step - accuracy: 0.9849 - loss: 0.0238 - val_accuracy: 0.7849 - val_loss: 1.3271\n",
            "Epoch 33/100\n",
            "\u001b[1m32/32\u001b[0m \u001b[32m━━━━━━━━━━━━━━━━━━━━\u001b[0m\u001b[37m\u001b[0m \u001b[1m0s\u001b[0m 5ms/step - accuracy: 0.9935 - loss: 0.0155 - val_accuracy: 0.7769 - val_loss: 1.3236\n",
            "Epoch 34/100\n",
            "\u001b[1m32/32\u001b[0m \u001b[32m━━━━━━━━━━━━━━━━━━━━\u001b[0m\u001b[37m\u001b[0m \u001b[1m0s\u001b[0m 6ms/step - accuracy: 0.9879 - loss: 0.0247 - val_accuracy: 0.7809 - val_loss: 1.4103\n",
            "Epoch 35/100\n",
            "\u001b[1m32/32\u001b[0m \u001b[32m━━━━━━━━━━━━━━━━━━━━\u001b[0m\u001b[37m\u001b[0m \u001b[1m0s\u001b[0m 9ms/step - accuracy: 0.9856 - loss: 0.0248 - val_accuracy: 0.7769 - val_loss: 1.3543\n",
            "Epoch 36/100\n",
            "\u001b[1m32/32\u001b[0m \u001b[32m━━━━━━━━━━━━━━━━━━━━\u001b[0m\u001b[37m\u001b[0m \u001b[1m1s\u001b[0m 9ms/step - accuracy: 0.9856 - loss: 0.0199 - val_accuracy: 0.7809 - val_loss: 1.4132\n",
            "Epoch 37/100\n",
            "\u001b[1m32/32\u001b[0m \u001b[32m━━━━━━━━━━━━━━━━━━━━\u001b[0m\u001b[37m\u001b[0m \u001b[1m1s\u001b[0m 9ms/step - accuracy: 0.9879 - loss: 0.0194 - val_accuracy: 0.7809 - val_loss: 1.4376\n",
            "Epoch 38/100\n",
            "\u001b[1m32/32\u001b[0m \u001b[32m━━━━━━━━━━━━━━━━━━━━\u001b[0m\u001b[37m\u001b[0m \u001b[1m0s\u001b[0m 9ms/step - accuracy: 0.9899 - loss: 0.0171 - val_accuracy: 0.7729 - val_loss: 1.5146\n",
            "Epoch 39/100\n",
            "\u001b[1m32/32\u001b[0m \u001b[32m━━━━━━━━━━━━━━━━━━━━\u001b[0m\u001b[37m\u001b[0m \u001b[1m0s\u001b[0m 5ms/step - accuracy: 0.9902 - loss: 0.0156 - val_accuracy: 0.7769 - val_loss: 1.5599\n",
            "Epoch 40/100\n",
            "\u001b[1m32/32\u001b[0m \u001b[32m━━━━━━━━━━━━━━━━━━━━\u001b[0m\u001b[37m\u001b[0m \u001b[1m0s\u001b[0m 5ms/step - accuracy: 0.9864 - loss: 0.0159 - val_accuracy: 0.7769 - val_loss: 1.5890\n",
            "Epoch 41/100\n",
            "\u001b[1m32/32\u001b[0m \u001b[32m━━━━━━━━━━━━━━━━━━━━\u001b[0m\u001b[37m\u001b[0m \u001b[1m0s\u001b[0m 5ms/step - accuracy: 0.9903 - loss: 0.0108 - val_accuracy: 0.7769 - val_loss: 1.6252\n",
            "Epoch 42/100\n",
            "\u001b[1m32/32\u001b[0m \u001b[32m━━━━━━━━━━━━━━━━━━━━\u001b[0m\u001b[37m\u001b[0m \u001b[1m0s\u001b[0m 5ms/step - accuracy: 0.9822 - loss: 0.0185 - val_accuracy: 0.7769 - val_loss: 1.6396\n",
            "Epoch 43/100\n",
            "\u001b[1m32/32\u001b[0m \u001b[32m━━━━━━━━━━━━━━━━━━━━\u001b[0m\u001b[37m\u001b[0m \u001b[1m0s\u001b[0m 5ms/step - accuracy: 0.9884 - loss: 0.0161 - val_accuracy: 0.7729 - val_loss: 1.5574\n",
            "Epoch 44/100\n",
            "\u001b[1m32/32\u001b[0m \u001b[32m━━━━━━━━━━━━━━━━━━━━\u001b[0m\u001b[37m\u001b[0m \u001b[1m0s\u001b[0m 5ms/step - accuracy: 0.9890 - loss: 0.0130 - val_accuracy: 0.7769 - val_loss: 1.6047\n",
            "Epoch 45/100\n",
            "\u001b[1m32/32\u001b[0m \u001b[32m━━━━━━━━━━━━━━━━━━━━\u001b[0m\u001b[37m\u001b[0m \u001b[1m0s\u001b[0m 5ms/step - accuracy: 0.9854 - loss: 0.0160 - val_accuracy: 0.7769 - val_loss: 1.6193\n",
            "Epoch 46/100\n",
            "\u001b[1m32/32\u001b[0m \u001b[32m━━━━━━━━━━━━━━━━━━━━\u001b[0m\u001b[37m\u001b[0m \u001b[1m0s\u001b[0m 5ms/step - accuracy: 0.9879 - loss: 0.0174 - val_accuracy: 0.7769 - val_loss: 1.6738\n",
            "Epoch 47/100\n",
            "\u001b[1m32/32\u001b[0m \u001b[32m━━━━━━━━━━━━━━━━━━━━\u001b[0m\u001b[37m\u001b[0m \u001b[1m0s\u001b[0m 5ms/step - accuracy: 0.9900 - loss: 0.0111 - val_accuracy: 0.7769 - val_loss: 1.6967\n",
            "Epoch 48/100\n",
            "\u001b[1m32/32\u001b[0m \u001b[32m━━━━━━━━━━━━━━━━━━━━\u001b[0m\u001b[37m\u001b[0m \u001b[1m0s\u001b[0m 6ms/step - accuracy: 0.9888 - loss: 0.0166 - val_accuracy: 0.7769 - val_loss: 1.7284\n",
            "Epoch 49/100\n",
            "\u001b[1m32/32\u001b[0m \u001b[32m━━━━━━━━━━━━━━━━━━━━\u001b[0m\u001b[37m\u001b[0m \u001b[1m0s\u001b[0m 5ms/step - accuracy: 0.9916 - loss: 0.0127 - val_accuracy: 0.7769 - val_loss: 1.6769\n",
            "Epoch 50/100\n",
            "\u001b[1m32/32\u001b[0m \u001b[32m━━━━━━━━━━━━━━━━━━━━\u001b[0m\u001b[37m\u001b[0m \u001b[1m0s\u001b[0m 6ms/step - accuracy: 0.9902 - loss: 0.0114 - val_accuracy: 0.7769 - val_loss: 1.7183\n",
            "Epoch 51/100\n",
            "\u001b[1m32/32\u001b[0m \u001b[32m━━━━━━━━━━━━━━━━━━━━\u001b[0m\u001b[37m\u001b[0m \u001b[1m0s\u001b[0m 5ms/step - accuracy: 0.9847 - loss: 0.0165 - val_accuracy: 0.7769 - val_loss: 1.7385\n",
            "Epoch 52/100\n",
            "\u001b[1m32/32\u001b[0m \u001b[32m━━━━━━━━━━━━━━━━━━━━\u001b[0m\u001b[37m\u001b[0m \u001b[1m0s\u001b[0m 5ms/step - accuracy: 0.9954 - loss: 0.0109 - val_accuracy: 0.7769 - val_loss: 1.7793\n",
            "Epoch 53/100\n",
            "\u001b[1m32/32\u001b[0m \u001b[32m━━━━━━━━━━━━━━━━━━━━\u001b[0m\u001b[37m\u001b[0m \u001b[1m0s\u001b[0m 5ms/step - accuracy: 0.9874 - loss: 0.0149 - val_accuracy: 0.7769 - val_loss: 1.7894\n",
            "Epoch 54/100\n",
            "\u001b[1m32/32\u001b[0m \u001b[32m━━━━━━━━━━━━━━━━━━━━\u001b[0m\u001b[37m\u001b[0m \u001b[1m0s\u001b[0m 6ms/step - accuracy: 0.9952 - loss: 0.0079 - val_accuracy: 0.7769 - val_loss: 1.8281\n",
            "Epoch 55/100\n",
            "\u001b[1m32/32\u001b[0m \u001b[32m━━━━━━━━━━━━━━━━━━━━\u001b[0m\u001b[37m\u001b[0m \u001b[1m0s\u001b[0m 5ms/step - accuracy: 0.9869 - loss: 0.0145 - val_accuracy: 0.7769 - val_loss: 1.7958\n",
            "Epoch 56/100\n",
            "\u001b[1m32/32\u001b[0m \u001b[32m━━━━━━━━━━━━━━━━━━━━\u001b[0m\u001b[37m\u001b[0m \u001b[1m0s\u001b[0m 5ms/step - accuracy: 0.9894 - loss: 0.0129 - val_accuracy: 0.7769 - val_loss: 1.8341\n",
            "Epoch 57/100\n",
            "\u001b[1m32/32\u001b[0m \u001b[32m━━━━━━━━━━━━━━━━━━━━\u001b[0m\u001b[37m\u001b[0m \u001b[1m0s\u001b[0m 5ms/step - accuracy: 0.9918 - loss: 0.0111 - val_accuracy: 0.7769 - val_loss: 1.8010\n",
            "Epoch 58/100\n",
            "\u001b[1m32/32\u001b[0m \u001b[32m━━━━━━━━━━━━━━━━━━━━\u001b[0m\u001b[37m\u001b[0m \u001b[1m0s\u001b[0m 6ms/step - accuracy: 0.9817 - loss: 0.0163 - val_accuracy: 0.7769 - val_loss: 1.8539\n",
            "Epoch 59/100\n",
            "\u001b[1m32/32\u001b[0m \u001b[32m━━━━━━━━━━━━━━━━━━━━\u001b[0m\u001b[37m\u001b[0m \u001b[1m0s\u001b[0m 5ms/step - accuracy: 0.9919 - loss: 0.0124 - val_accuracy: 0.7769 - val_loss: 1.8755\n",
            "Epoch 60/100\n",
            "\u001b[1m32/32\u001b[0m \u001b[32m━━━━━━━━━━━━━━━━━━━━\u001b[0m\u001b[37m\u001b[0m \u001b[1m0s\u001b[0m 5ms/step - accuracy: 0.9951 - loss: 0.0109 - val_accuracy: 0.7769 - val_loss: 1.8994\n",
            "Epoch 61/100\n",
            "\u001b[1m32/32\u001b[0m \u001b[32m━━━━━━━━━━━━━━━━━━━━\u001b[0m\u001b[37m\u001b[0m \u001b[1m0s\u001b[0m 6ms/step - accuracy: 0.9889 - loss: 0.0118 - val_accuracy: 0.7769 - val_loss: 1.8739\n",
            "Epoch 62/100\n",
            "\u001b[1m32/32\u001b[0m \u001b[32m━━━━━━━━━━━━━━━━━━━━\u001b[0m\u001b[37m\u001b[0m \u001b[1m0s\u001b[0m 5ms/step - accuracy: 0.9847 - loss: 0.0175 - val_accuracy: 0.7769 - val_loss: 1.9022\n",
            "Epoch 63/100\n",
            "\u001b[1m32/32\u001b[0m \u001b[32m━━━━━━━━━━━━━━━━━━━━\u001b[0m\u001b[37m\u001b[0m \u001b[1m0s\u001b[0m 5ms/step - accuracy: 0.9871 - loss: 0.0134 - val_accuracy: 0.7769 - val_loss: 1.8908\n",
            "Epoch 64/100\n",
            "\u001b[1m32/32\u001b[0m \u001b[32m━━━━━━━━━━━━━━━━━━━━\u001b[0m\u001b[37m\u001b[0m \u001b[1m0s\u001b[0m 5ms/step - accuracy: 0.9840 - loss: 0.0162 - val_accuracy: 0.7769 - val_loss: 1.9229\n",
            "Epoch 65/100\n",
            "\u001b[1m32/32\u001b[0m \u001b[32m━━━━━━━━━━━━━━━━━━━━\u001b[0m\u001b[37m\u001b[0m \u001b[1m0s\u001b[0m 6ms/step - accuracy: 0.9929 - loss: 0.0131 - val_accuracy: 0.7769 - val_loss: 1.9699\n",
            "Epoch 66/100\n",
            "\u001b[1m32/32\u001b[0m \u001b[32m━━━━━━━━━━━━━━━━━━━━\u001b[0m\u001b[37m\u001b[0m \u001b[1m0s\u001b[0m 5ms/step - accuracy: 0.9856 - loss: 0.0179 - val_accuracy: 0.7769 - val_loss: 1.9693\n",
            "Epoch 67/100\n",
            "\u001b[1m32/32\u001b[0m \u001b[32m━━━━━━━━━━━━━━━━━━━━\u001b[0m\u001b[37m\u001b[0m \u001b[1m0s\u001b[0m 6ms/step - accuracy: 0.9935 - loss: 0.0094 - val_accuracy: 0.7769 - val_loss: 1.9969\n",
            "Epoch 68/100\n",
            "\u001b[1m32/32\u001b[0m \u001b[32m━━━━━━━━━━━━━━━━━━━━\u001b[0m\u001b[37m\u001b[0m \u001b[1m0s\u001b[0m 5ms/step - accuracy: 0.9848 - loss: 0.0174 - val_accuracy: 0.7769 - val_loss: 2.0385\n",
            "Epoch 69/100\n",
            "\u001b[1m32/32\u001b[0m \u001b[32m━━━━━━━━━━━━━━━━━━━━\u001b[0m\u001b[37m\u001b[0m \u001b[1m0s\u001b[0m 5ms/step - accuracy: 0.9865 - loss: 0.0157 - val_accuracy: 0.7769 - val_loss: 2.0185\n",
            "Epoch 70/100\n",
            "\u001b[1m32/32\u001b[0m \u001b[32m━━━━━━━━━━━━━━━━━━━━\u001b[0m\u001b[37m\u001b[0m \u001b[1m0s\u001b[0m 5ms/step - accuracy: 0.9910 - loss: 0.0148 - val_accuracy: 0.7729 - val_loss: 2.0526\n",
            "Epoch 71/100\n",
            "\u001b[1m32/32\u001b[0m \u001b[32m━━━━━━━━━━━━━━━━━━━━\u001b[0m\u001b[37m\u001b[0m \u001b[1m0s\u001b[0m 5ms/step - accuracy: 0.9829 - loss: 0.0192 - val_accuracy: 0.7729 - val_loss: 2.1291\n",
            "Epoch 72/100\n",
            "\u001b[1m32/32\u001b[0m \u001b[32m━━━━━━━━━━━━━━━━━━━━\u001b[0m\u001b[37m\u001b[0m \u001b[1m0s\u001b[0m 5ms/step - accuracy: 0.9554 - loss: 0.1159 - val_accuracy: 0.7490 - val_loss: 0.9186\n",
            "Epoch 73/100\n",
            "\u001b[1m32/32\u001b[0m \u001b[32m━━━━━━━━━━━━━━━━━━━━\u001b[0m\u001b[37m\u001b[0m \u001b[1m0s\u001b[0m 5ms/step - accuracy: 0.9559 - loss: 0.1029 - val_accuracy: 0.7809 - val_loss: 1.0366\n",
            "Epoch 74/100\n",
            "\u001b[1m32/32\u001b[0m \u001b[32m━━━━━━━━━━━━━━━━━━━━\u001b[0m\u001b[37m\u001b[0m \u001b[1m0s\u001b[0m 5ms/step - accuracy: 0.9781 - loss: 0.0561 - val_accuracy: 0.7689 - val_loss: 1.0435\n",
            "Epoch 75/100\n",
            "\u001b[1m32/32\u001b[0m \u001b[32m━━━━━━━━━━━━━━━━━━━━\u001b[0m\u001b[37m\u001b[0m \u001b[1m0s\u001b[0m 5ms/step - accuracy: 0.9726 - loss: 0.0491 - val_accuracy: 0.7769 - val_loss: 1.3382\n",
            "Epoch 76/100\n",
            "\u001b[1m32/32\u001b[0m \u001b[32m━━━━━━━━━━━━━━━━━━━━\u001b[0m\u001b[37m\u001b[0m \u001b[1m0s\u001b[0m 5ms/step - accuracy: 0.9823 - loss: 0.0473 - val_accuracy: 0.7729 - val_loss: 1.4191\n",
            "Epoch 77/100\n",
            "\u001b[1m32/32\u001b[0m \u001b[32m━━━━━━━━━━━━━━━━━━━━\u001b[0m\u001b[37m\u001b[0m \u001b[1m0s\u001b[0m 6ms/step - accuracy: 0.9905 - loss: 0.0231 - val_accuracy: 0.7769 - val_loss: 1.5307\n",
            "Epoch 78/100\n",
            "\u001b[1m32/32\u001b[0m \u001b[32m━━━━━━━━━━━━━━━━━━━━\u001b[0m\u001b[37m\u001b[0m \u001b[1m0s\u001b[0m 11ms/step - accuracy: 0.9936 - loss: 0.0118 - val_accuracy: 0.7769 - val_loss: 1.6536\n",
            "Epoch 79/100\n",
            "\u001b[1m32/32\u001b[0m \u001b[32m━━━━━━━━━━━━━━━━━━━━\u001b[0m\u001b[37m\u001b[0m \u001b[1m0s\u001b[0m 8ms/step - accuracy: 0.9883 - loss: 0.0188 - val_accuracy: 0.7769 - val_loss: 1.6690\n",
            "Epoch 80/100\n",
            "\u001b[1m32/32\u001b[0m \u001b[32m━━━━━━━━━━━━━━━━━━━━\u001b[0m\u001b[37m\u001b[0m \u001b[1m0s\u001b[0m 8ms/step - accuracy: 0.9924 - loss: 0.0154 - val_accuracy: 0.7729 - val_loss: 1.7252\n",
            "Epoch 81/100\n",
            "\u001b[1m32/32\u001b[0m \u001b[32m━━━━━━━━━━━━━━━━━━━━\u001b[0m\u001b[37m\u001b[0m \u001b[1m0s\u001b[0m 8ms/step - accuracy: 0.9923 - loss: 0.0159 - val_accuracy: 0.7649 - val_loss: 1.6384\n",
            "Epoch 82/100\n",
            "\u001b[1m32/32\u001b[0m \u001b[32m━━━━━━━━━━━━━━━━━━━━\u001b[0m\u001b[37m\u001b[0m \u001b[1m0s\u001b[0m 8ms/step - accuracy: 0.9932 - loss: 0.0161 - val_accuracy: 0.7649 - val_loss: 1.7887\n",
            "Epoch 83/100\n",
            "\u001b[1m32/32\u001b[0m \u001b[32m━━━━━━━━━━━━━━━━━━━━\u001b[0m\u001b[37m\u001b[0m \u001b[1m1s\u001b[0m 9ms/step - accuracy: 0.9943 - loss: 0.0072 - val_accuracy: 0.7610 - val_loss: 1.8855\n",
            "Epoch 84/100\n",
            "\u001b[1m32/32\u001b[0m \u001b[32m━━━━━━━━━━━━━━━━━━━━\u001b[0m\u001b[37m\u001b[0m \u001b[1m0s\u001b[0m 6ms/step - accuracy: 0.9895 - loss: 0.0116 - val_accuracy: 0.7649 - val_loss: 1.9288\n",
            "Epoch 85/100\n",
            "\u001b[1m32/32\u001b[0m \u001b[32m━━━━━━━━━━━━━━━━━━━━\u001b[0m\u001b[37m\u001b[0m \u001b[1m0s\u001b[0m 5ms/step - accuracy: 0.9946 - loss: 0.0115 - val_accuracy: 0.7649 - val_loss: 1.9484\n",
            "Epoch 86/100\n",
            "\u001b[1m32/32\u001b[0m \u001b[32m━━━━━━━━━━━━━━━━━━━━\u001b[0m\u001b[37m\u001b[0m \u001b[1m0s\u001b[0m 6ms/step - accuracy: 0.9868 - loss: 0.0187 - val_accuracy: 0.7649 - val_loss: 1.9920\n",
            "Epoch 87/100\n",
            "\u001b[1m32/32\u001b[0m \u001b[32m━━━━━━━━━━━━━━━━━━━━\u001b[0m\u001b[37m\u001b[0m \u001b[1m0s\u001b[0m 6ms/step - accuracy: 0.9914 - loss: 0.0119 - val_accuracy: 0.7649 - val_loss: 2.0193\n",
            "Epoch 88/100\n",
            "\u001b[1m32/32\u001b[0m \u001b[32m━━━━━━━━━━━━━━━━━━━━\u001b[0m\u001b[37m\u001b[0m \u001b[1m0s\u001b[0m 6ms/step - accuracy: 0.9906 - loss: 0.0138 - val_accuracy: 0.7649 - val_loss: 2.0528\n",
            "Epoch 89/100\n",
            "\u001b[1m32/32\u001b[0m \u001b[32m━━━━━━━━━━━━━━━━━━━━\u001b[0m\u001b[37m\u001b[0m \u001b[1m0s\u001b[0m 5ms/step - accuracy: 0.9907 - loss: 0.0126 - val_accuracy: 0.7689 - val_loss: 2.0588\n",
            "Epoch 90/100\n",
            "\u001b[1m32/32\u001b[0m \u001b[32m━━━━━━━━━━━━━━━━━━━━\u001b[0m\u001b[37m\u001b[0m \u001b[1m0s\u001b[0m 5ms/step - accuracy: 0.9874 - loss: 0.0129 - val_accuracy: 0.7689 - val_loss: 2.0740\n",
            "Epoch 91/100\n",
            "\u001b[1m32/32\u001b[0m \u001b[32m━━━━━━━━━━━━━━━━━━━━\u001b[0m\u001b[37m\u001b[0m \u001b[1m0s\u001b[0m 6ms/step - accuracy: 0.9905 - loss: 0.0098 - val_accuracy: 0.7729 - val_loss: 2.0812\n",
            "Epoch 92/100\n",
            "\u001b[1m32/32\u001b[0m \u001b[32m━━━━━━━━━━━━━━━━━━━━\u001b[0m\u001b[37m\u001b[0m \u001b[1m0s\u001b[0m 5ms/step - accuracy: 0.9948 - loss: 0.0118 - val_accuracy: 0.7649 - val_loss: 2.0931\n",
            "Epoch 93/100\n",
            "\u001b[1m32/32\u001b[0m \u001b[32m━━━━━━━━━━━━━━━━━━━━\u001b[0m\u001b[37m\u001b[0m \u001b[1m0s\u001b[0m 5ms/step - accuracy: 0.9926 - loss: 0.0128 - val_accuracy: 0.7689 - val_loss: 2.1314\n",
            "Epoch 94/100\n",
            "\u001b[1m32/32\u001b[0m \u001b[32m━━━━━━━━━━━━━━━━━━━━\u001b[0m\u001b[37m\u001b[0m \u001b[1m0s\u001b[0m 6ms/step - accuracy: 0.9880 - loss: 0.0145 - val_accuracy: 0.7689 - val_loss: 2.1289\n",
            "Epoch 95/100\n",
            "\u001b[1m32/32\u001b[0m \u001b[32m━━━━━━━━━━━━━━━━━━━━\u001b[0m\u001b[37m\u001b[0m \u001b[1m0s\u001b[0m 5ms/step - accuracy: 0.9903 - loss: 0.0115 - val_accuracy: 0.7689 - val_loss: 2.1600\n",
            "Epoch 96/100\n",
            "\u001b[1m32/32\u001b[0m \u001b[32m━━━━━━━━━━━━━━━━━━━━\u001b[0m\u001b[37m\u001b[0m \u001b[1m0s\u001b[0m 6ms/step - accuracy: 0.9816 - loss: 0.0196 - val_accuracy: 0.7649 - val_loss: 2.1924\n",
            "Epoch 97/100\n",
            "\u001b[1m32/32\u001b[0m \u001b[32m━━━━━━━━━━━━━━━━━━━━\u001b[0m\u001b[37m\u001b[0m \u001b[1m0s\u001b[0m 6ms/step - accuracy: 0.9901 - loss: 0.0152 - val_accuracy: 0.7689 - val_loss: 2.1946\n",
            "Epoch 98/100\n",
            "\u001b[1m32/32\u001b[0m \u001b[32m━━━━━━━━━━━━━━━━━━━━\u001b[0m\u001b[37m\u001b[0m \u001b[1m0s\u001b[0m 5ms/step - accuracy: 0.9921 - loss: 0.0137 - val_accuracy: 0.7689 - val_loss: 2.1961\n",
            "Epoch 99/100\n",
            "\u001b[1m32/32\u001b[0m \u001b[32m━━━━━━━━━━━━━━━━━━━━\u001b[0m\u001b[37m\u001b[0m \u001b[1m0s\u001b[0m 5ms/step - accuracy: 0.9936 - loss: 0.0088 - val_accuracy: 0.7689 - val_loss: 2.2237\n",
            "Epoch 100/100\n",
            "\u001b[1m32/32\u001b[0m \u001b[32m━━━━━━━━━━━━━━━━━━━━\u001b[0m\u001b[37m\u001b[0m \u001b[1m0s\u001b[0m 5ms/step - accuracy: 0.9909 - loss: 0.0163 - val_accuracy: 0.7649 - val_loss: 2.2072\n"
          ]
        },
        {
          "output_type": "execute_result",
          "data": {
            "text/plain": [
              "<keras.src.callbacks.history.History at 0x7d8204762790>"
            ]
          },
          "metadata": {},
          "execution_count": 70
        }
      ]
    },
    {
      "cell_type": "code",
      "source": [
        "loss, accuracy = nn_model.evaluate(X_test, y_test)\n",
        "print(f\"Test Accuracy: {accuracy:.2f}\")"
      ],
      "metadata": {
        "colab": {
          "base_uri": "https://localhost:8080/"
        },
        "id": "Ws9CW5mBix9C",
        "outputId": "7f2bf5f5-3516-4513-bb1a-6d0de601d2b4"
      },
      "execution_count": 71,
      "outputs": [
        {
          "output_type": "stream",
          "name": "stdout",
          "text": [
            "\u001b[1m10/10\u001b[0m \u001b[32m━━━━━━━━━━━━━━━━━━━━\u001b[0m\u001b[37m\u001b[0m \u001b[1m0s\u001b[0m 4ms/step - accuracy: 0.7810 - loss: 2.1100 \n",
            "Test Accuracy: 0.79\n"
          ]
        }
      ]
    },
    {
      "cell_type": "code",
      "source": [
        "test_df = pd.read_csv('/content/test.csv')"
      ],
      "metadata": {
        "id": "umeLdto3i8Ns"
      },
      "execution_count": 34,
      "outputs": []
    },
    {
      "cell_type": "code",
      "source": [
        "test_df.info()"
      ],
      "metadata": {
        "colab": {
          "base_uri": "https://localhost:8080/"
        },
        "id": "EP23tOmOjKkA",
        "outputId": "e2b3c2a4-f05a-42ef-c254-78a6492b0d79"
      },
      "execution_count": 35,
      "outputs": [
        {
          "output_type": "stream",
          "name": "stdout",
          "text": [
            "<class 'pandas.core.frame.DataFrame'>\n",
            "RangeIndex: 673 entries, 0 to 672\n",
            "Data columns (total 28 columns):\n",
            " #   Column               Non-Null Count  Dtype  \n",
            "---  ------               --------------  -----  \n",
            " 0   ID                   673 non-null    int64  \n",
            " 1   Year_Birth           673 non-null    int64  \n",
            " 2   Education            673 non-null    object \n",
            " 3   Marital_Status       673 non-null    object \n",
            " 4   Income               666 non-null    float64\n",
            " 5   Kidhome              673 non-null    int64  \n",
            " 6   Teenhome             673 non-null    int64  \n",
            " 7   Dt_Customer          673 non-null    object \n",
            " 8   Recency              673 non-null    int64  \n",
            " 9   MntWines             661 non-null    float64\n",
            " 10  MntFruits            673 non-null    int64  \n",
            " 11  MntMeatProducts      664 non-null    float64\n",
            " 12  MntFishProducts      673 non-null    int64  \n",
            " 13  MntSweetProducts     673 non-null    int64  \n",
            " 14  MntGoldProds         666 non-null    float64\n",
            " 15  NumDealsPurchases    673 non-null    int64  \n",
            " 16  NumWebPurchases      673 non-null    int64  \n",
            " 17  NumCatalogPurchases  673 non-null    int64  \n",
            " 18  NumStorePurchases    673 non-null    int64  \n",
            " 19  NumWebVisitsMonth    673 non-null    int64  \n",
            " 20  AcceptedCmp3         673 non-null    int64  \n",
            " 21  AcceptedCmp4         673 non-null    int64  \n",
            " 22  AcceptedCmp5         673 non-null    int64  \n",
            " 23  AcceptedCmp1         673 non-null    int64  \n",
            " 24  AcceptedCmp2         673 non-null    int64  \n",
            " 25  Complain             673 non-null    int64  \n",
            " 26  Z_CostContact        673 non-null    int64  \n",
            " 27  Z_Revenue            673 non-null    int64  \n",
            "dtypes: float64(4), int64(21), object(3)\n",
            "memory usage: 147.3+ KB\n"
          ]
        }
      ]
    },
    {
      "cell_type": "code",
      "source": [
        "test_df = test_df.drop('ID', axis = 1)\n",
        "test_df.info()\n",
        "\n"
      ],
      "metadata": {
        "colab": {
          "base_uri": "https://localhost:8080/"
        },
        "id": "n5V7gDs6jWwh",
        "outputId": "0407d9b4-701e-48f2-8172-51e83ae63586"
      },
      "execution_count": 36,
      "outputs": [
        {
          "output_type": "stream",
          "name": "stdout",
          "text": [
            "<class 'pandas.core.frame.DataFrame'>\n",
            "RangeIndex: 673 entries, 0 to 672\n",
            "Data columns (total 27 columns):\n",
            " #   Column               Non-Null Count  Dtype  \n",
            "---  ------               --------------  -----  \n",
            " 0   Year_Birth           673 non-null    int64  \n",
            " 1   Education            673 non-null    object \n",
            " 2   Marital_Status       673 non-null    object \n",
            " 3   Income               666 non-null    float64\n",
            " 4   Kidhome              673 non-null    int64  \n",
            " 5   Teenhome             673 non-null    int64  \n",
            " 6   Dt_Customer          673 non-null    object \n",
            " 7   Recency              673 non-null    int64  \n",
            " 8   MntWines             661 non-null    float64\n",
            " 9   MntFruits            673 non-null    int64  \n",
            " 10  MntMeatProducts      664 non-null    float64\n",
            " 11  MntFishProducts      673 non-null    int64  \n",
            " 12  MntSweetProducts     673 non-null    int64  \n",
            " 13  MntGoldProds         666 non-null    float64\n",
            " 14  NumDealsPurchases    673 non-null    int64  \n",
            " 15  NumWebPurchases      673 non-null    int64  \n",
            " 16  NumCatalogPurchases  673 non-null    int64  \n",
            " 17  NumStorePurchases    673 non-null    int64  \n",
            " 18  NumWebVisitsMonth    673 non-null    int64  \n",
            " 19  AcceptedCmp3         673 non-null    int64  \n",
            " 20  AcceptedCmp4         673 non-null    int64  \n",
            " 21  AcceptedCmp5         673 non-null    int64  \n",
            " 22  AcceptedCmp1         673 non-null    int64  \n",
            " 23  AcceptedCmp2         673 non-null    int64  \n",
            " 24  Complain             673 non-null    int64  \n",
            " 25  Z_CostContact        673 non-null    int64  \n",
            " 26  Z_Revenue            673 non-null    int64  \n",
            "dtypes: float64(4), int64(20), object(3)\n",
            "memory usage: 142.1+ KB\n"
          ]
        }
      ]
    },
    {
      "cell_type": "code",
      "source": [
        "test_df['Age'] = 2025 - test_df['Year_Birth']"
      ],
      "metadata": {
        "id": "yrLpSvl2jwXM"
      },
      "execution_count": 37,
      "outputs": []
    },
    {
      "cell_type": "code",
      "source": [
        "test_df.info()"
      ],
      "metadata": {
        "colab": {
          "base_uri": "https://localhost:8080/"
        },
        "id": "NIt0RRJ7j2KY",
        "outputId": "da8b9e1e-5d3f-4cb9-faf9-209155e4d693"
      },
      "execution_count": 38,
      "outputs": [
        {
          "output_type": "stream",
          "name": "stdout",
          "text": [
            "<class 'pandas.core.frame.DataFrame'>\n",
            "RangeIndex: 673 entries, 0 to 672\n",
            "Data columns (total 28 columns):\n",
            " #   Column               Non-Null Count  Dtype  \n",
            "---  ------               --------------  -----  \n",
            " 0   Year_Birth           673 non-null    int64  \n",
            " 1   Education            673 non-null    object \n",
            " 2   Marital_Status       673 non-null    object \n",
            " 3   Income               666 non-null    float64\n",
            " 4   Kidhome              673 non-null    int64  \n",
            " 5   Teenhome             673 non-null    int64  \n",
            " 6   Dt_Customer          673 non-null    object \n",
            " 7   Recency              673 non-null    int64  \n",
            " 8   MntWines             661 non-null    float64\n",
            " 9   MntFruits            673 non-null    int64  \n",
            " 10  MntMeatProducts      664 non-null    float64\n",
            " 11  MntFishProducts      673 non-null    int64  \n",
            " 12  MntSweetProducts     673 non-null    int64  \n",
            " 13  MntGoldProds         666 non-null    float64\n",
            " 14  NumDealsPurchases    673 non-null    int64  \n",
            " 15  NumWebPurchases      673 non-null    int64  \n",
            " 16  NumCatalogPurchases  673 non-null    int64  \n",
            " 17  NumStorePurchases    673 non-null    int64  \n",
            " 18  NumWebVisitsMonth    673 non-null    int64  \n",
            " 19  AcceptedCmp3         673 non-null    int64  \n",
            " 20  AcceptedCmp4         673 non-null    int64  \n",
            " 21  AcceptedCmp5         673 non-null    int64  \n",
            " 22  AcceptedCmp1         673 non-null    int64  \n",
            " 23  AcceptedCmp2         673 non-null    int64  \n",
            " 24  Complain             673 non-null    int64  \n",
            " 25  Z_CostContact        673 non-null    int64  \n",
            " 26  Z_Revenue            673 non-null    int64  \n",
            " 27  Age                  673 non-null    int64  \n",
            "dtypes: float64(4), int64(21), object(3)\n",
            "memory usage: 147.3+ KB\n"
          ]
        }
      ]
    },
    {
      "cell_type": "code",
      "source": [
        "test_df = test_df.drop('Year_Birth', axis = 1)"
      ],
      "metadata": {
        "id": "KM0LeKTij4e9"
      },
      "execution_count": 39,
      "outputs": []
    },
    {
      "cell_type": "code",
      "source": [
        "test_df.info()"
      ],
      "metadata": {
        "colab": {
          "base_uri": "https://localhost:8080/"
        },
        "id": "GiBOhnIlj9N3",
        "outputId": "8ff9451a-b872-41f2-acff-66c857697dda"
      },
      "execution_count": 40,
      "outputs": [
        {
          "output_type": "stream",
          "name": "stdout",
          "text": [
            "<class 'pandas.core.frame.DataFrame'>\n",
            "RangeIndex: 673 entries, 0 to 672\n",
            "Data columns (total 27 columns):\n",
            " #   Column               Non-Null Count  Dtype  \n",
            "---  ------               --------------  -----  \n",
            " 0   Education            673 non-null    object \n",
            " 1   Marital_Status       673 non-null    object \n",
            " 2   Income               666 non-null    float64\n",
            " 3   Kidhome              673 non-null    int64  \n",
            " 4   Teenhome             673 non-null    int64  \n",
            " 5   Dt_Customer          673 non-null    object \n",
            " 6   Recency              673 non-null    int64  \n",
            " 7   MntWines             661 non-null    float64\n",
            " 8   MntFruits            673 non-null    int64  \n",
            " 9   MntMeatProducts      664 non-null    float64\n",
            " 10  MntFishProducts      673 non-null    int64  \n",
            " 11  MntSweetProducts     673 non-null    int64  \n",
            " 12  MntGoldProds         666 non-null    float64\n",
            " 13  NumDealsPurchases    673 non-null    int64  \n",
            " 14  NumWebPurchases      673 non-null    int64  \n",
            " 15  NumCatalogPurchases  673 non-null    int64  \n",
            " 16  NumStorePurchases    673 non-null    int64  \n",
            " 17  NumWebVisitsMonth    673 non-null    int64  \n",
            " 18  AcceptedCmp3         673 non-null    int64  \n",
            " 19  AcceptedCmp4         673 non-null    int64  \n",
            " 20  AcceptedCmp5         673 non-null    int64  \n",
            " 21  AcceptedCmp1         673 non-null    int64  \n",
            " 22  AcceptedCmp2         673 non-null    int64  \n",
            " 23  Complain             673 non-null    int64  \n",
            " 24  Z_CostContact        673 non-null    int64  \n",
            " 25  Z_Revenue            673 non-null    int64  \n",
            " 26  Age                  673 non-null    int64  \n",
            "dtypes: float64(4), int64(20), object(3)\n",
            "memory usage: 142.1+ KB\n"
          ]
        }
      ]
    },
    {
      "cell_type": "code",
      "source": [
        "test_df['Income'] = test_df['Income'].fillna(test_df['Income'].median())"
      ],
      "metadata": {
        "id": "WthM8HmmkNW7"
      },
      "execution_count": 41,
      "outputs": []
    },
    {
      "cell_type": "code",
      "source": [
        "test_df.info()"
      ],
      "metadata": {
        "colab": {
          "base_uri": "https://localhost:8080/"
        },
        "id": "ZutUWCSOkZdb",
        "outputId": "542e6c72-be67-461a-be26-bab570f9de8c"
      },
      "execution_count": 42,
      "outputs": [
        {
          "output_type": "stream",
          "name": "stdout",
          "text": [
            "<class 'pandas.core.frame.DataFrame'>\n",
            "RangeIndex: 673 entries, 0 to 672\n",
            "Data columns (total 27 columns):\n",
            " #   Column               Non-Null Count  Dtype  \n",
            "---  ------               --------------  -----  \n",
            " 0   Education            673 non-null    object \n",
            " 1   Marital_Status       673 non-null    object \n",
            " 2   Income               673 non-null    float64\n",
            " 3   Kidhome              673 non-null    int64  \n",
            " 4   Teenhome             673 non-null    int64  \n",
            " 5   Dt_Customer          673 non-null    object \n",
            " 6   Recency              673 non-null    int64  \n",
            " 7   MntWines             661 non-null    float64\n",
            " 8   MntFruits            673 non-null    int64  \n",
            " 9   MntMeatProducts      664 non-null    float64\n",
            " 10  MntFishProducts      673 non-null    int64  \n",
            " 11  MntSweetProducts     673 non-null    int64  \n",
            " 12  MntGoldProds         666 non-null    float64\n",
            " 13  NumDealsPurchases    673 non-null    int64  \n",
            " 14  NumWebPurchases      673 non-null    int64  \n",
            " 15  NumCatalogPurchases  673 non-null    int64  \n",
            " 16  NumStorePurchases    673 non-null    int64  \n",
            " 17  NumWebVisitsMonth    673 non-null    int64  \n",
            " 18  AcceptedCmp3         673 non-null    int64  \n",
            " 19  AcceptedCmp4         673 non-null    int64  \n",
            " 20  AcceptedCmp5         673 non-null    int64  \n",
            " 21  AcceptedCmp1         673 non-null    int64  \n",
            " 22  AcceptedCmp2         673 non-null    int64  \n",
            " 23  Complain             673 non-null    int64  \n",
            " 24  Z_CostContact        673 non-null    int64  \n",
            " 25  Z_Revenue            673 non-null    int64  \n",
            " 26  Age                  673 non-null    int64  \n",
            "dtypes: float64(4), int64(20), object(3)\n",
            "memory usage: 142.1+ KB\n"
          ]
        }
      ]
    },
    {
      "cell_type": "code",
      "source": [
        "test_df['MntWines'] = test_df['MntWines'].fillna(test_df['MntWines'].median())\n",
        "test_df['MntMeatProducts'] = test_df['MntMeatProducts'].fillna(test_df['MntMeatProducts'].median())\n",
        "test_df['MntGoldProds'] = test_df['MntGoldProds'].fillna(test_df['MntGoldProds'].median())"
      ],
      "metadata": {
        "id": "dQmTrLRCkcir"
      },
      "execution_count": 43,
      "outputs": []
    },
    {
      "cell_type": "code",
      "source": [
        "test_df.info()"
      ],
      "metadata": {
        "colab": {
          "base_uri": "https://localhost:8080/"
        },
        "id": "-mtPDdlwk2pX",
        "outputId": "6dcb557d-15dc-4653-c982-3aab6ae625a3"
      },
      "execution_count": 44,
      "outputs": [
        {
          "output_type": "stream",
          "name": "stdout",
          "text": [
            "<class 'pandas.core.frame.DataFrame'>\n",
            "RangeIndex: 673 entries, 0 to 672\n",
            "Data columns (total 27 columns):\n",
            " #   Column               Non-Null Count  Dtype  \n",
            "---  ------               --------------  -----  \n",
            " 0   Education            673 non-null    object \n",
            " 1   Marital_Status       673 non-null    object \n",
            " 2   Income               673 non-null    float64\n",
            " 3   Kidhome              673 non-null    int64  \n",
            " 4   Teenhome             673 non-null    int64  \n",
            " 5   Dt_Customer          673 non-null    object \n",
            " 6   Recency              673 non-null    int64  \n",
            " 7   MntWines             673 non-null    float64\n",
            " 8   MntFruits            673 non-null    int64  \n",
            " 9   MntMeatProducts      673 non-null    float64\n",
            " 10  MntFishProducts      673 non-null    int64  \n",
            " 11  MntSweetProducts     673 non-null    int64  \n",
            " 12  MntGoldProds         673 non-null    float64\n",
            " 13  NumDealsPurchases    673 non-null    int64  \n",
            " 14  NumWebPurchases      673 non-null    int64  \n",
            " 15  NumCatalogPurchases  673 non-null    int64  \n",
            " 16  NumStorePurchases    673 non-null    int64  \n",
            " 17  NumWebVisitsMonth    673 non-null    int64  \n",
            " 18  AcceptedCmp3         673 non-null    int64  \n",
            " 19  AcceptedCmp4         673 non-null    int64  \n",
            " 20  AcceptedCmp5         673 non-null    int64  \n",
            " 21  AcceptedCmp1         673 non-null    int64  \n",
            " 22  AcceptedCmp2         673 non-null    int64  \n",
            " 23  Complain             673 non-null    int64  \n",
            " 24  Z_CostContact        673 non-null    int64  \n",
            " 25  Z_Revenue            673 non-null    int64  \n",
            " 26  Age                  673 non-null    int64  \n",
            "dtypes: float64(4), int64(20), object(3)\n",
            "memory usage: 142.1+ KB\n"
          ]
        }
      ]
    },
    {
      "cell_type": "code",
      "source": [
        "test_df = pd.get_dummies(test_df, columns=['Education', 'Marital_Status'], drop_first=True)"
      ],
      "metadata": {
        "id": "F8sgS3A0k8Ez"
      },
      "execution_count": 45,
      "outputs": []
    },
    {
      "cell_type": "code",
      "source": [
        "test_df.info()"
      ],
      "metadata": {
        "colab": {
          "base_uri": "https://localhost:8080/"
        },
        "id": "vatmig-jk9Vg",
        "outputId": "aa5af64b-0d92-49f5-c765-6f9d5b2f1065"
      },
      "execution_count": 46,
      "outputs": [
        {
          "output_type": "stream",
          "name": "stdout",
          "text": [
            "<class 'pandas.core.frame.DataFrame'>\n",
            "RangeIndex: 673 entries, 0 to 672\n",
            "Data columns (total 35 columns):\n",
            " #   Column                   Non-Null Count  Dtype  \n",
            "---  ------                   --------------  -----  \n",
            " 0   Income                   673 non-null    float64\n",
            " 1   Kidhome                  673 non-null    int64  \n",
            " 2   Teenhome                 673 non-null    int64  \n",
            " 3   Dt_Customer              673 non-null    object \n",
            " 4   Recency                  673 non-null    int64  \n",
            " 5   MntWines                 673 non-null    float64\n",
            " 6   MntFruits                673 non-null    int64  \n",
            " 7   MntMeatProducts          673 non-null    float64\n",
            " 8   MntFishProducts          673 non-null    int64  \n",
            " 9   MntSweetProducts         673 non-null    int64  \n",
            " 10  MntGoldProds             673 non-null    float64\n",
            " 11  NumDealsPurchases        673 non-null    int64  \n",
            " 12  NumWebPurchases          673 non-null    int64  \n",
            " 13  NumCatalogPurchases      673 non-null    int64  \n",
            " 14  NumStorePurchases        673 non-null    int64  \n",
            " 15  NumWebVisitsMonth        673 non-null    int64  \n",
            " 16  AcceptedCmp3             673 non-null    int64  \n",
            " 17  AcceptedCmp4             673 non-null    int64  \n",
            " 18  AcceptedCmp5             673 non-null    int64  \n",
            " 19  AcceptedCmp1             673 non-null    int64  \n",
            " 20  AcceptedCmp2             673 non-null    int64  \n",
            " 21  Complain                 673 non-null    int64  \n",
            " 22  Z_CostContact            673 non-null    int64  \n",
            " 23  Z_Revenue                673 non-null    int64  \n",
            " 24  Age                      673 non-null    int64  \n",
            " 25  Education_Basic          673 non-null    bool   \n",
            " 26  Education_Graduation     673 non-null    bool   \n",
            " 27  Education_Master         673 non-null    bool   \n",
            " 28  Education_PhD            673 non-null    bool   \n",
            " 29  Marital_Status_Divorced  673 non-null    bool   \n",
            " 30  Marital_Status_Married   673 non-null    bool   \n",
            " 31  Marital_Status_Single    673 non-null    bool   \n",
            " 32  Marital_Status_Together  673 non-null    bool   \n",
            " 33  Marital_Status_Widow     673 non-null    bool   \n",
            " 34  Marital_Status_YOLO      673 non-null    bool   \n",
            "dtypes: bool(10), float64(4), int64(20), object(1)\n",
            "memory usage: 138.1+ KB\n"
          ]
        }
      ]
    },
    {
      "cell_type": "code",
      "source": [
        "test_df = test_df.drop('Dt_Customer', axis = 1)"
      ],
      "metadata": {
        "id": "eAGQLA3UlQMq"
      },
      "execution_count": 47,
      "outputs": []
    },
    {
      "cell_type": "code",
      "source": [
        "test_df.info()"
      ],
      "metadata": {
        "colab": {
          "base_uri": "https://localhost:8080/"
        },
        "id": "pQYzVaExl2hn",
        "outputId": "56203967-1290-4f84-bdc8-18f3497a7057"
      },
      "execution_count": 48,
      "outputs": [
        {
          "output_type": "stream",
          "name": "stdout",
          "text": [
            "<class 'pandas.core.frame.DataFrame'>\n",
            "RangeIndex: 673 entries, 0 to 672\n",
            "Data columns (total 34 columns):\n",
            " #   Column                   Non-Null Count  Dtype  \n",
            "---  ------                   --------------  -----  \n",
            " 0   Income                   673 non-null    float64\n",
            " 1   Kidhome                  673 non-null    int64  \n",
            " 2   Teenhome                 673 non-null    int64  \n",
            " 3   Recency                  673 non-null    int64  \n",
            " 4   MntWines                 673 non-null    float64\n",
            " 5   MntFruits                673 non-null    int64  \n",
            " 6   MntMeatProducts          673 non-null    float64\n",
            " 7   MntFishProducts          673 non-null    int64  \n",
            " 8   MntSweetProducts         673 non-null    int64  \n",
            " 9   MntGoldProds             673 non-null    float64\n",
            " 10  NumDealsPurchases        673 non-null    int64  \n",
            " 11  NumWebPurchases          673 non-null    int64  \n",
            " 12  NumCatalogPurchases      673 non-null    int64  \n",
            " 13  NumStorePurchases        673 non-null    int64  \n",
            " 14  NumWebVisitsMonth        673 non-null    int64  \n",
            " 15  AcceptedCmp3             673 non-null    int64  \n",
            " 16  AcceptedCmp4             673 non-null    int64  \n",
            " 17  AcceptedCmp5             673 non-null    int64  \n",
            " 18  AcceptedCmp1             673 non-null    int64  \n",
            " 19  AcceptedCmp2             673 non-null    int64  \n",
            " 20  Complain                 673 non-null    int64  \n",
            " 21  Z_CostContact            673 non-null    int64  \n",
            " 22  Z_Revenue                673 non-null    int64  \n",
            " 23  Age                      673 non-null    int64  \n",
            " 24  Education_Basic          673 non-null    bool   \n",
            " 25  Education_Graduation     673 non-null    bool   \n",
            " 26  Education_Master         673 non-null    bool   \n",
            " 27  Education_PhD            673 non-null    bool   \n",
            " 28  Marital_Status_Divorced  673 non-null    bool   \n",
            " 29  Marital_Status_Married   673 non-null    bool   \n",
            " 30  Marital_Status_Single    673 non-null    bool   \n",
            " 31  Marital_Status_Together  673 non-null    bool   \n",
            " 32  Marital_Status_Widow     673 non-null    bool   \n",
            " 33  Marital_Status_YOLO      673 non-null    bool   \n",
            "dtypes: bool(10), float64(4), int64(20)\n",
            "memory usage: 132.9 KB\n"
          ]
        }
      ]
    },
    {
      "cell_type": "code",
      "source": [
        "test_df['Marital_Status_Alone'] = test_df['Marital_Status_YOLO']"
      ],
      "metadata": {
        "id": "bwBqTEzDmGVn"
      },
      "execution_count": 49,
      "outputs": []
    },
    {
      "cell_type": "code",
      "source": [
        "test_df.info()"
      ],
      "metadata": {
        "colab": {
          "base_uri": "https://localhost:8080/"
        },
        "id": "d4FboFxemSZt",
        "outputId": "8eaa52e5-6de4-4200-d684-72f1b2a17080"
      },
      "execution_count": 50,
      "outputs": [
        {
          "output_type": "stream",
          "name": "stdout",
          "text": [
            "<class 'pandas.core.frame.DataFrame'>\n",
            "RangeIndex: 673 entries, 0 to 672\n",
            "Data columns (total 35 columns):\n",
            " #   Column                   Non-Null Count  Dtype  \n",
            "---  ------                   --------------  -----  \n",
            " 0   Income                   673 non-null    float64\n",
            " 1   Kidhome                  673 non-null    int64  \n",
            " 2   Teenhome                 673 non-null    int64  \n",
            " 3   Recency                  673 non-null    int64  \n",
            " 4   MntWines                 673 non-null    float64\n",
            " 5   MntFruits                673 non-null    int64  \n",
            " 6   MntMeatProducts          673 non-null    float64\n",
            " 7   MntFishProducts          673 non-null    int64  \n",
            " 8   MntSweetProducts         673 non-null    int64  \n",
            " 9   MntGoldProds             673 non-null    float64\n",
            " 10  NumDealsPurchases        673 non-null    int64  \n",
            " 11  NumWebPurchases          673 non-null    int64  \n",
            " 12  NumCatalogPurchases      673 non-null    int64  \n",
            " 13  NumStorePurchases        673 non-null    int64  \n",
            " 14  NumWebVisitsMonth        673 non-null    int64  \n",
            " 15  AcceptedCmp3             673 non-null    int64  \n",
            " 16  AcceptedCmp4             673 non-null    int64  \n",
            " 17  AcceptedCmp5             673 non-null    int64  \n",
            " 18  AcceptedCmp1             673 non-null    int64  \n",
            " 19  AcceptedCmp2             673 non-null    int64  \n",
            " 20  Complain                 673 non-null    int64  \n",
            " 21  Z_CostContact            673 non-null    int64  \n",
            " 22  Z_Revenue                673 non-null    int64  \n",
            " 23  Age                      673 non-null    int64  \n",
            " 24  Education_Basic          673 non-null    bool   \n",
            " 25  Education_Graduation     673 non-null    bool   \n",
            " 26  Education_Master         673 non-null    bool   \n",
            " 27  Education_PhD            673 non-null    bool   \n",
            " 28  Marital_Status_Divorced  673 non-null    bool   \n",
            " 29  Marital_Status_Married   673 non-null    bool   \n",
            " 30  Marital_Status_Single    673 non-null    bool   \n",
            " 31  Marital_Status_Together  673 non-null    bool   \n",
            " 32  Marital_Status_Widow     673 non-null    bool   \n",
            " 33  Marital_Status_YOLO      673 non-null    bool   \n",
            " 34  Marital_Status_Alone     673 non-null    bool   \n",
            "dtypes: bool(11), float64(4), int64(20)\n",
            "memory usage: 133.5 KB\n"
          ]
        }
      ]
    },
    {
      "cell_type": "code",
      "source": [
        "test_df = test_df.drop('Marital_Status_YOLO', axis = 1)"
      ],
      "metadata": {
        "id": "0q_YjMPlmUhn"
      },
      "execution_count": 51,
      "outputs": []
    },
    {
      "cell_type": "code",
      "source": [
        "test_df.info()"
      ],
      "metadata": {
        "colab": {
          "base_uri": "https://localhost:8080/"
        },
        "id": "Ro540RqamaYz",
        "outputId": "8e932114-f8da-4377-95d5-96154edf834f"
      },
      "execution_count": 52,
      "outputs": [
        {
          "output_type": "stream",
          "name": "stdout",
          "text": [
            "<class 'pandas.core.frame.DataFrame'>\n",
            "RangeIndex: 673 entries, 0 to 672\n",
            "Data columns (total 34 columns):\n",
            " #   Column                   Non-Null Count  Dtype  \n",
            "---  ------                   --------------  -----  \n",
            " 0   Income                   673 non-null    float64\n",
            " 1   Kidhome                  673 non-null    int64  \n",
            " 2   Teenhome                 673 non-null    int64  \n",
            " 3   Recency                  673 non-null    int64  \n",
            " 4   MntWines                 673 non-null    float64\n",
            " 5   MntFruits                673 non-null    int64  \n",
            " 6   MntMeatProducts          673 non-null    float64\n",
            " 7   MntFishProducts          673 non-null    int64  \n",
            " 8   MntSweetProducts         673 non-null    int64  \n",
            " 9   MntGoldProds             673 non-null    float64\n",
            " 10  NumDealsPurchases        673 non-null    int64  \n",
            " 11  NumWebPurchases          673 non-null    int64  \n",
            " 12  NumCatalogPurchases      673 non-null    int64  \n",
            " 13  NumStorePurchases        673 non-null    int64  \n",
            " 14  NumWebVisitsMonth        673 non-null    int64  \n",
            " 15  AcceptedCmp3             673 non-null    int64  \n",
            " 16  AcceptedCmp4             673 non-null    int64  \n",
            " 17  AcceptedCmp5             673 non-null    int64  \n",
            " 18  AcceptedCmp1             673 non-null    int64  \n",
            " 19  AcceptedCmp2             673 non-null    int64  \n",
            " 20  Complain                 673 non-null    int64  \n",
            " 21  Z_CostContact            673 non-null    int64  \n",
            " 22  Z_Revenue                673 non-null    int64  \n",
            " 23  Age                      673 non-null    int64  \n",
            " 24  Education_Basic          673 non-null    bool   \n",
            " 25  Education_Graduation     673 non-null    bool   \n",
            " 26  Education_Master         673 non-null    bool   \n",
            " 27  Education_PhD            673 non-null    bool   \n",
            " 28  Marital_Status_Divorced  673 non-null    bool   \n",
            " 29  Marital_Status_Married   673 non-null    bool   \n",
            " 30  Marital_Status_Single    673 non-null    bool   \n",
            " 31  Marital_Status_Together  673 non-null    bool   \n",
            " 32  Marital_Status_Widow     673 non-null    bool   \n",
            " 33  Marital_Status_Alone     673 non-null    bool   \n",
            "dtypes: bool(10), float64(4), int64(20)\n",
            "memory usage: 132.9 KB\n"
          ]
        }
      ]
    },
    {
      "cell_type": "code",
      "source": [
        "test_df = test_df[X_train.columns]"
      ],
      "metadata": {
        "id": "IVpOhfNAmoyl"
      },
      "execution_count": 53,
      "outputs": []
    },
    {
      "cell_type": "code",
      "source": [
        "test_df.info()"
      ],
      "metadata": {
        "colab": {
          "base_uri": "https://localhost:8080/"
        },
        "id": "9NZ9xL7hmqGY",
        "outputId": "ca6049a5-1b17-47ed-a32f-1e0dc5f39418"
      },
      "execution_count": 54,
      "outputs": [
        {
          "output_type": "stream",
          "name": "stdout",
          "text": [
            "<class 'pandas.core.frame.DataFrame'>\n",
            "RangeIndex: 673 entries, 0 to 672\n",
            "Data columns (total 34 columns):\n",
            " #   Column                   Non-Null Count  Dtype  \n",
            "---  ------                   --------------  -----  \n",
            " 0   Income                   673 non-null    float64\n",
            " 1   Kidhome                  673 non-null    int64  \n",
            " 2   Teenhome                 673 non-null    int64  \n",
            " 3   Recency                  673 non-null    int64  \n",
            " 4   MntWines                 673 non-null    float64\n",
            " 5   MntFruits                673 non-null    int64  \n",
            " 6   MntMeatProducts          673 non-null    float64\n",
            " 7   MntFishProducts          673 non-null    int64  \n",
            " 8   MntSweetProducts         673 non-null    int64  \n",
            " 9   MntGoldProds             673 non-null    float64\n",
            " 10  NumDealsPurchases        673 non-null    int64  \n",
            " 11  NumWebPurchases          673 non-null    int64  \n",
            " 12  NumCatalogPurchases      673 non-null    int64  \n",
            " 13  NumStorePurchases        673 non-null    int64  \n",
            " 14  NumWebVisitsMonth        673 non-null    int64  \n",
            " 15  AcceptedCmp3             673 non-null    int64  \n",
            " 16  AcceptedCmp4             673 non-null    int64  \n",
            " 17  AcceptedCmp5             673 non-null    int64  \n",
            " 18  AcceptedCmp1             673 non-null    int64  \n",
            " 19  AcceptedCmp2             673 non-null    int64  \n",
            " 20  Complain                 673 non-null    int64  \n",
            " 21  Z_CostContact            673 non-null    int64  \n",
            " 22  Z_Revenue                673 non-null    int64  \n",
            " 23  Age                      673 non-null    int64  \n",
            " 24  Education_Basic          673 non-null    bool   \n",
            " 25  Education_Graduation     673 non-null    bool   \n",
            " 26  Education_Master         673 non-null    bool   \n",
            " 27  Education_PhD            673 non-null    bool   \n",
            " 28  Marital_Status_Alone     673 non-null    bool   \n",
            " 29  Marital_Status_Divorced  673 non-null    bool   \n",
            " 30  Marital_Status_Married   673 non-null    bool   \n",
            " 31  Marital_Status_Single    673 non-null    bool   \n",
            " 32  Marital_Status_Together  673 non-null    bool   \n",
            " 33  Marital_Status_Widow     673 non-null    bool   \n",
            "dtypes: bool(10), float64(4), int64(20)\n",
            "memory usage: 132.9 KB\n"
          ]
        }
      ]
    },
    {
      "cell_type": "code",
      "source": [
        "# Assuming you already did this for training\n",
        "scaler = StandardScaler()\n",
        "X_train_scaled = scaler.fit_transform(X_train)\n",
        "\n",
        "# Now just transform the test set\n",
        "X_test_scaled = scaler.transform(test_df)\n",
        "\n"
      ],
      "metadata": {
        "id": "n5sLTX0km8Ws"
      },
      "execution_count": 56,
      "outputs": []
    },
    {
      "cell_type": "code",
      "source": [
        "y_pred = nn_model.predict(X_test_scaled)\n"
      ],
      "metadata": {
        "colab": {
          "base_uri": "https://localhost:8080/"
        },
        "id": "Lj6oS5ysnQYG",
        "outputId": "f01138c7-210a-457c-b106-b5acaee34bf7"
      },
      "execution_count": 58,
      "outputs": [
        {
          "output_type": "stream",
          "name": "stdout",
          "text": [
            "\u001b[1m22/22\u001b[0m \u001b[32m━━━━━━━━━━━━━━━━━━━━\u001b[0m\u001b[37m\u001b[0m \u001b[1m0s\u001b[0m 7ms/step\n"
          ]
        }
      ]
    },
    {
      "cell_type": "code",
      "source": [
        "#Submission in kaggle\n",
        "id = pd.read_csv('/content/test.csv')['ID']"
      ],
      "metadata": {
        "id": "pNZ4rF0spIw8"
      },
      "execution_count": 61,
      "outputs": []
    },
    {
      "cell_type": "code",
      "source": [
        "id.shape"
      ],
      "metadata": {
        "colab": {
          "base_uri": "https://localhost:8080/"
        },
        "id": "IKKhB0ekpm0R",
        "outputId": "c6669904-0c78-4072-ea82-9951ab292608"
      },
      "execution_count": 63,
      "outputs": [
        {
          "output_type": "execute_result",
          "data": {
            "text/plain": [
              "(673,)"
            ]
          },
          "metadata": {},
          "execution_count": 63
        }
      ]
    },
    {
      "cell_type": "code",
      "source": [
        "y_pred.shape"
      ],
      "metadata": {
        "colab": {
          "base_uri": "https://localhost:8080/"
        },
        "id": "iFKmHN6tppLg",
        "outputId": "f2b55c55-2f06-4cba-e625-c7c2cdb72c81"
      },
      "execution_count": 64,
      "outputs": [
        {
          "output_type": "execute_result",
          "data": {
            "text/plain": [
              "(673, 1)"
            ]
          },
          "metadata": {},
          "execution_count": 64
        }
      ]
    },
    {
      "cell_type": "code",
      "source": [
        "submission = pd.DataFrame({\n",
        "    'ID': id,  # use the original untouched test data\n",
        "    'Target': y_pred.ravel()\n",
        "})\n",
        "\n",
        "submission.to_csv('submission.csv', index=False)"
      ],
      "metadata": {
        "id": "1bW9VpbRpg5h"
      },
      "execution_count": 65,
      "outputs": []
    }
  ]
}